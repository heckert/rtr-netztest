{
 "cells": [
  {
   "cell_type": "code",
   "execution_count": 2,
   "metadata": {},
   "outputs": [],
   "source": [
    "%load_ext autoreload\n",
    "%autoreload 2"
   ]
  },
  {
   "cell_type": "code",
   "execution_count": 11,
   "metadata": {},
   "outputs": [],
   "source": [
    "import numpy as np\n",
    "import pandas as pd\n",
    "import matplotlib.pyplot as plt\n",
    "import seaborn as sns\n",
    "import pathlib\n",
    "\n",
    "from omegaconf import OmegaConf\n",
    "from sklearn.model_selection import train_test_split\n",
    "\n",
    "from speedtest.utils.visualization import plot_comparison_histogram\n",
    "from speedtest.utils.transform import OutlierRemover"
   ]
  },
  {
   "cell_type": "code",
   "execution_count": 4,
   "metadata": {},
   "outputs": [],
   "source": [
    "# Reduce default figure size\n",
    "plt.rcParams['figure.figsize'] = (4, 3)"
   ]
  },
  {
   "cell_type": "code",
   "execution_count": 5,
   "metadata": {},
   "outputs": [],
   "source": [
    "pd.set_option('display.max_columns', 50)\n",
    "pd.set_option('display.max_rows', 500)"
   ]
  },
  {
   "cell_type": "code",
   "execution_count": 6,
   "metadata": {},
   "outputs": [],
   "source": [
    "cfg = OmegaConf.load('../../speedtest/conf/config.yaml')"
   ]
  },
  {
   "cell_type": "markdown",
   "metadata": {},
   "source": [
    "## Load dataset"
   ]
  },
  {
   "cell_type": "code",
   "execution_count": 7,
   "metadata": {},
   "outputs": [],
   "source": [
    "INPUTS = ['download_mbit', 'upload_mbit', 'time_utc']\n",
    "TARGET = 'cat_technology'"
   ]
  },
  {
   "cell_type": "code",
   "execution_count": 8,
   "metadata": {},
   "outputs": [],
   "source": [
    "df = pd.read_csv('../../data/processed/netztest-opendata-processed.csv')\n",
    "df = df[INPUTS + [TARGET]]"
   ]
  },
  {
   "cell_type": "code",
   "execution_count": 9,
   "metadata": {},
   "outputs": [
    {
     "data": {
      "text/html": [
       "<div>\n",
       "<style scoped>\n",
       "    .dataframe tbody tr th:only-of-type {\n",
       "        vertical-align: middle;\n",
       "    }\n",
       "\n",
       "    .dataframe tbody tr th {\n",
       "        vertical-align: top;\n",
       "    }\n",
       "\n",
       "    .dataframe thead th {\n",
       "        text-align: right;\n",
       "    }\n",
       "</style>\n",
       "<table border=\"1\" class=\"dataframe\">\n",
       "  <thead>\n",
       "    <tr style=\"text-align: right;\">\n",
       "      <th></th>\n",
       "      <th>download_mbit</th>\n",
       "      <th>upload_mbit</th>\n",
       "      <th>time_utc</th>\n",
       "      <th>cat_technology</th>\n",
       "    </tr>\n",
       "  </thead>\n",
       "  <tbody>\n",
       "    <tr>\n",
       "      <th>12379</th>\n",
       "      <td>2.791</td>\n",
       "      <td>16.715</td>\n",
       "      <td>2023-08-30 03:34:33</td>\n",
       "      <td>4G</td>\n",
       "    </tr>\n",
       "    <tr>\n",
       "      <th>1110</th>\n",
       "      <td>9.117</td>\n",
       "      <td>1.810</td>\n",
       "      <td>2023-08-21 06:21:29</td>\n",
       "      <td>3G</td>\n",
       "    </tr>\n",
       "    <tr>\n",
       "      <th>31489</th>\n",
       "      <td>234.228</td>\n",
       "      <td>100.588</td>\n",
       "      <td>2023-09-14 18:11:45</td>\n",
       "      <td>5G</td>\n",
       "    </tr>\n",
       "    <tr>\n",
       "      <th>33242</th>\n",
       "      <td>100.603</td>\n",
       "      <td>10.556</td>\n",
       "      <td>2023-09-15 15:14:03</td>\n",
       "      <td>4G</td>\n",
       "    </tr>\n",
       "    <tr>\n",
       "      <th>35172</th>\n",
       "      <td>6.948</td>\n",
       "      <td>8.938</td>\n",
       "      <td>2023-09-17 10:50:57</td>\n",
       "      <td>3G</td>\n",
       "    </tr>\n",
       "  </tbody>\n",
       "</table>\n",
       "</div>"
      ],
      "text/plain": [
       "       download_mbit  upload_mbit             time_utc cat_technology\n",
       "12379          2.791       16.715  2023-08-30 03:34:33             4G\n",
       "1110           9.117        1.810  2023-08-21 06:21:29             3G\n",
       "31489        234.228      100.588  2023-09-14 18:11:45             5G\n",
       "33242        100.603       10.556  2023-09-15 15:14:03             4G\n",
       "35172          6.948        8.938  2023-09-17 10:50:57             3G"
      ]
     },
     "execution_count": 9,
     "metadata": {},
     "output_type": "execute_result"
    }
   ],
   "source": [
    "df.sample(5)"
   ]
  },
  {
   "cell_type": "markdown",
   "metadata": {},
   "source": [
    "## Train-test split"
   ]
  },
  {
   "cell_type": "code",
   "execution_count": 43,
   "metadata": {},
   "outputs": [],
   "source": [
    "df_features = df.copy()"
   ]
  },
  {
   "cell_type": "markdown",
   "metadata": {},
   "source": [
    "## Preprocessing"
   ]
  },
  {
   "cell_type": "markdown",
   "metadata": {},
   "source": [
    "<img src=\"image.png\" alt=\"\" width=\"800\"/>"
   ]
  },
  {
   "cell_type": "markdown",
   "metadata": {},
   "source": [
    "### download_mbits_clean"
   ]
  },
  {
   "cell_type": "markdown",
   "metadata": {},
   "source": [
    "#### Clip outliers"
   ]
  },
  {
   "cell_type": "code",
   "execution_count": 46,
   "metadata": {},
   "outputs": [
    {
     "data": {
      "image/png": "[encoded data removed]",
      "text/plain": [
       "<Figure size 400x300 with 1 Axes>"
      ]
     },
     "metadata": {},
     "output_type": "display_data"
    }
   ],
   "source": [
    "sns.boxplot(x='cat_technology', y='download_mbit', data=df)\n",
    "plt.title('download_mbit')\n",
    "plt.show()"
   ]
  },
  {
   "cell_type": "code",
   "execution_count": 47,
   "metadata": {},
   "outputs": [
    {
     "data": {
      "text/plain": [
       "594.8073999999996"
      ]
     },
     "execution_count": 47,
     "metadata": {},
     "output_type": "execute_result"
    }
   ],
   "source": [
    "maxvalue = df['download_mbit'].quantile(.99)\n",
    "maxvalue"
   ]
  },
  {
   "cell_type": "code",
   "execution_count": 48,
   "metadata": {},
   "outputs": [],
   "source": [
    "def clip_outliers(column: pd.Series, quantile: float = .99) -> pd.Series:\n",
    "    column = column.copy()\n",
    "    maxvalue = column.quantile(quantile)\n",
    "    column.loc[column > maxvalue] = maxvalue\n",
    "\n",
    "    return column\n",
    "\n",
    "df_features['download_mbit_clean'] = clip_outliers(df['download_mbit'])"
   ]
  },
  {
   "cell_type": "code",
   "execution_count": 49,
   "metadata": {},
   "outputs": [
    {
     "data": {
      "image/png": "[encoded data removed]",
      "text/plain": [
       "<Figure size 400x300 with 1 Axes>"
      ]
     },
     "metadata": {},
     "output_type": "display_data"
    }
   ],
   "source": [
    "sns.boxplot(x='cat_technology', y='download_mbit_clean', data=df_features)\n",
    "plt.title('download_mbit_clean')\n",
    "plt.show()"
   ]
  },
  {
   "cell_type": "markdown",
   "metadata": {},
   "source": [
    "#### z-Score scaling"
   ]
  },
  {
   "cell_type": "code",
   "execution_count": 41,
   "metadata": {},
   "outputs": [],
   "source": [
    "X_train['download_mbit_clean'] = (X_train['download_mbit_clean'] - X_train['download_mbit_clean'].mean()) / X_train['download_mbit_clean'].std()"
   ]
  },
  {
   "cell_type": "code",
   "execution_count": 42,
   "metadata": {},
   "outputs": [
    {
     "data": {
      "text/plain": [
       "<Axes: >"
      ]
     },
     "execution_count": 42,
     "metadata": {},
     "output_type": "execute_result"
    },
    {
     "data": {
      "image/png": "[encoded data removed]",
      "text/plain": [
       "<Figure size 400x300 with 1 Axes>"
      ]
     },
     "metadata": {},
     "output_type": "display_data"
    }
   ],
   "source": [
    "X_train['download_mbit_clean'].hist()"
   ]
  }
 ],
 "metadata": {
  "interpreter": {
   "hash": "52aec3629970dfe7c1aa8c85d88da8e493bb0e76222bea35c219a0da88f85af9"
  },
  "kernelspec": {
   "display_name": "Python 3.10.0 ('speedtest')",
   "language": "python",
   "name": "python3"
  },
  "language_info": {
   "codemirror_mode": {
    "name": "ipython",
    "version": 3
   },
   "file_extension": ".py",
   "mimetype": "text/x-python",
   "name": "python",
   "nbconvert_exporter": "python",
   "pygments_lexer": "ipython3",
   "version": "3.11.5"
  },
  "orig_nbformat": 2
 },
 "nbformat": 4,
 "nbformat_minor": 2
}
