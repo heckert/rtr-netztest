{
 "cells": [
  {
   "cell_type": "code",
   "execution_count": 1,
   "metadata": {},
   "outputs": [],
   "source": [
    "%load_ext autoreload\n",
    "%autoreload 2"
   ]
  },
  {
   "cell_type": "code",
   "execution_count": 2,
   "metadata": {},
   "outputs": [],
   "source": [
    "import numpy as np\n",
    "import pandas as pd\n",
    "import matplotlib.pyplot as plt\n",
    "import seaborn as sns\n",
    "import pathlib\n",
    "\n",
    "from omegaconf import OmegaConf\n",
    "from sklearn.model_selection import train_test_split\n",
    "from sklearn.preprocessing import MinMaxScaler\n",
    "\n",
    "from speedtest.utils.visualization import plot_comparison_histogram\n",
    "from speedtest.utils.transform import OutlierRemover"
   ]
  },
  {
   "cell_type": "code",
   "execution_count": 3,
   "metadata": {},
   "outputs": [],
   "source": [
    "# Reduce default figure size\n",
    "plt.rcParams['figure.figsize'] = (4, 3)"
   ]
  },
  {
   "cell_type": "code",
   "execution_count": 4,
   "metadata": {},
   "outputs": [],
   "source": [
    "pd.set_option('display.max_columns', 50)\n",
    "pd.set_option('display.max_rows', 500)"
   ]
  },
  {
   "cell_type": "code",
   "execution_count": 5,
   "metadata": {},
   "outputs": [],
   "source": [
    "cfg = OmegaConf.load('../../speedtest/conf/config.yaml')"
   ]
  },
  {
   "cell_type": "markdown",
   "metadata": {},
   "source": [
    "## Load dataset"
   ]
  },
  {
   "cell_type": "code",
   "execution_count": 6,
   "metadata": {},
   "outputs": [],
   "source": [
    "INPUTS = ['download_mbit', 'upload_mbit', 'time_utc']\n",
    "TARGET = 'cat_technology'"
   ]
  },
  {
   "cell_type": "code",
   "execution_count": 7,
   "metadata": {},
   "outputs": [],
   "source": [
    "df = pd.read_csv('../../data/processed/netztest-opendata-processed.csv')\n",
    "df = df[INPUTS + [TARGET]]"
   ]
  },
  {
   "cell_type": "code",
   "execution_count": 8,
   "metadata": {},
   "outputs": [
    {
     "data": {
      "text/html": [
       "<div>\n",
       "<style scoped>\n",
       "    .dataframe tbody tr th:only-of-type {\n",
       "        vertical-align: middle;\n",
       "    }\n",
       "\n",
       "    .dataframe tbody tr th {\n",
       "        vertical-align: top;\n",
       "    }\n",
       "\n",
       "    .dataframe thead th {\n",
       "        text-align: right;\n",
       "    }\n",
       "</style>\n",
       "<table border=\"1\" class=\"dataframe\">\n",
       "  <thead>\n",
       "    <tr style=\"text-align: right;\">\n",
       "      <th></th>\n",
       "      <th>download_mbit</th>\n",
       "      <th>upload_mbit</th>\n",
       "      <th>time_utc</th>\n",
       "      <th>cat_technology</th>\n",
       "    </tr>\n",
       "  </thead>\n",
       "  <tbody>\n",
       "    <tr>\n",
       "      <th>30142</th>\n",
       "      <td>18.197</td>\n",
       "      <td>0.282</td>\n",
       "      <td>2023-09-13 15:07:35</td>\n",
       "      <td>4G</td>\n",
       "    </tr>\n",
       "    <tr>\n",
       "      <th>27225</th>\n",
       "      <td>261.707</td>\n",
       "      <td>86.281</td>\n",
       "      <td>2023-09-11 10:26:04</td>\n",
       "      <td>5G</td>\n",
       "    </tr>\n",
       "    <tr>\n",
       "      <th>7931</th>\n",
       "      <td>327.135</td>\n",
       "      <td>7.799</td>\n",
       "      <td>2023-08-26 10:12:03</td>\n",
       "      <td>5G</td>\n",
       "    </tr>\n",
       "    <tr>\n",
       "      <th>4330</th>\n",
       "      <td>87.132</td>\n",
       "      <td>14.659</td>\n",
       "      <td>2023-08-23 13:03:08</td>\n",
       "      <td>5G</td>\n",
       "    </tr>\n",
       "    <tr>\n",
       "      <th>16865</th>\n",
       "      <td>76.168</td>\n",
       "      <td>17.949</td>\n",
       "      <td>2023-09-02 13:53:03</td>\n",
       "      <td>4G</td>\n",
       "    </tr>\n",
       "  </tbody>\n",
       "</table>\n",
       "</div>"
      ],
      "text/plain": [
       "       download_mbit  upload_mbit             time_utc cat_technology\n",
       "30142         18.197        0.282  2023-09-13 15:07:35             4G\n",
       "27225        261.707       86.281  2023-09-11 10:26:04             5G\n",
       "7931         327.135        7.799  2023-08-26 10:12:03             5G\n",
       "4330          87.132       14.659  2023-08-23 13:03:08             5G\n",
       "16865         76.168       17.949  2023-09-02 13:53:03             4G"
      ]
     },
     "execution_count": 8,
     "metadata": {},
     "output_type": "execute_result"
    }
   ],
   "source": [
    "df.sample(5)"
   ]
  },
  {
   "cell_type": "code",
   "execution_count": 9,
   "metadata": {},
   "outputs": [],
   "source": [
    "df_features = pd.DataFrame()"
   ]
  },
  {
   "cell_type": "markdown",
   "metadata": {},
   "source": [
    "## Preprocessing"
   ]
  },
  {
   "cell_type": "markdown",
   "metadata": {},
   "source": [
    "<img src=\"image.png\" alt=\"\" width=\"800\"/>"
   ]
  },
  {
   "cell_type": "markdown",
   "metadata": {},
   "source": [
    "## Hour of day / day of week"
   ]
  },
  {
   "cell_type": "code",
   "execution_count": 10,
   "metadata": {},
   "outputs": [],
   "source": [
    "df['time_cet'] = pd.to_datetime(df['time_utc'], utc=True).dt.tz_convert('Europe/Berlin')"
   ]
  },
  {
   "cell_type": "code",
   "execution_count": 11,
   "metadata": {},
   "outputs": [],
   "source": [
    "df_features['hour_of_day_cet'] = df['time_cet'].dt.hour"
   ]
  },
  {
   "cell_type": "code",
   "execution_count": 12,
   "metadata": {},
   "outputs": [],
   "source": [
    "df_features['day_of_week_cet'] = df['time_cet'].dt.weekday"
   ]
  },
  {
   "cell_type": "code",
   "execution_count": 13,
   "metadata": {},
   "outputs": [
    {
     "data": {
      "text/html": [
       "<div>\n",
       "<style scoped>\n",
       "    .dataframe tbody tr th:only-of-type {\n",
       "        vertical-align: middle;\n",
       "    }\n",
       "\n",
       "    .dataframe tbody tr th {\n",
       "        vertical-align: top;\n",
       "    }\n",
       "\n",
       "    .dataframe thead th {\n",
       "        text-align: right;\n",
       "    }\n",
       "</style>\n",
       "<table border=\"1\" class=\"dataframe\">\n",
       "  <thead>\n",
       "    <tr style=\"text-align: right;\">\n",
       "      <th></th>\n",
       "      <th>hour_of_day_cet</th>\n",
       "      <th>day_of_week_cet</th>\n",
       "    </tr>\n",
       "  </thead>\n",
       "  <tbody>\n",
       "    <tr>\n",
       "      <th>15867</th>\n",
       "      <td>15</td>\n",
       "      <td>4</td>\n",
       "    </tr>\n",
       "    <tr>\n",
       "      <th>28806</th>\n",
       "      <td>16</td>\n",
       "      <td>1</td>\n",
       "    </tr>\n",
       "    <tr>\n",
       "      <th>13183</th>\n",
       "      <td>13</td>\n",
       "      <td>2</td>\n",
       "    </tr>\n",
       "    <tr>\n",
       "      <th>17056</th>\n",
       "      <td>19</td>\n",
       "      <td>5</td>\n",
       "    </tr>\n",
       "    <tr>\n",
       "      <th>24207</th>\n",
       "      <td>13</td>\n",
       "      <td>4</td>\n",
       "    </tr>\n",
       "  </tbody>\n",
       "</table>\n",
       "</div>"
      ],
      "text/plain": [
       "       hour_of_day_cet  day_of_week_cet\n",
       "15867               15                4\n",
       "28806               16                1\n",
       "13183               13                2\n",
       "17056               19                5\n",
       "24207               13                4"
      ]
     },
     "execution_count": 13,
     "metadata": {},
     "output_type": "execute_result"
    }
   ],
   "source": [
    "df_features.sample(5)"
   ]
  },
  {
   "cell_type": "markdown",
   "metadata": {},
   "source": [
    "### download_mbits_clean"
   ]
  },
  {
   "cell_type": "markdown",
   "metadata": {},
   "source": [
    "#### Clip outliers"
   ]
  },
  {
   "cell_type": "code",
   "execution_count": 14,
   "metadata": {},
   "outputs": [
    {
     "data": {
      "image/png": "[encoded data removed]",
      "text/plain": [
       "<Figure size 400x300 with 1 Axes>"
      ]
     },
     "metadata": {},
     "output_type": "display_data"
    }
   ],
   "source": [
    "sns.boxplot(x='cat_technology', y='download_mbit', data=df)\n",
    "plt.title('download_mbit')\n",
    "plt.show()"
   ]
  },
  {
   "cell_type": "code",
   "execution_count": 15,
   "metadata": {},
   "outputs": [
    {
     "data": {
      "text/plain": [
       "594.8073999999996"
      ]
     },
     "execution_count": 15,
     "metadata": {},
     "output_type": "execute_result"
    }
   ],
   "source": [
    "limit = df['download_mbit'].quantile(.99)\n",
    "limit"
   ]
  },
  {
   "cell_type": "code",
   "execution_count": 16,
   "metadata": {},
   "outputs": [],
   "source": [
    "def clip_outliers(column: pd.Series, quantile: float = .99) -> pd.Series:\n",
    "    column = column.copy()\n",
    "    limit = column.quantile(quantile)\n",
    "    column.loc[column > limit] = limit\n",
    "\n",
    "    return column\n",
    "\n",
    "df['download_mbit_wo_outliers'] = clip_outliers(df['download_mbit'])\n",
    "df['upload_mbit_wo_outliers'] = clip_outliers(df['upload_mbit'])"
   ]
  },
  {
   "cell_type": "code",
   "execution_count": 17,
   "metadata": {},
   "outputs": [
    {
     "data": {
      "image/png": "[encoded data removed]",
      "text/plain": [
       "<Figure size 400x300 with 1 Axes>"
      ]
     },
     "metadata": {},
     "output_type": "display_data"
    }
   ],
   "source": [
    "sns.boxplot(x='cat_technology', y='download_mbit_wo_outliers', data=df)\n",
    "plt.title('download_mbit\\noutliers clipped')\n",
    "plt.show()"
   ]
  },
  {
   "cell_type": "markdown",
   "metadata": {},
   "source": [
    "#### Min-Max scaling"
   ]
  },
  {
   "cell_type": "code",
   "execution_count": 18,
   "metadata": {},
   "outputs": [
    {
     "data": {
      "text/plain": [
       "<Axes: >"
      ]
     },
     "execution_count": 18,
     "metadata": {},
     "output_type": "execute_result"
    },
    {
     "data": {
      "image/png": "[encoded data removed]",
      "text/plain": [
       "<Figure size 400x300 with 1 Axes>"
      ]
     },
     "metadata": {},
     "output_type": "display_data"
    }
   ],
   "source": [
    "min_ = df['download_mbit_wo_outliers'].min()\n",
    "max_ = df['download_mbit_wo_outliers'].max()\n",
    "\n",
    "df_features['download_mbit_clean'] = (df['download_mbit_wo_outliers'] - min_) / max_\n",
    "\n",
    "df_features['download_mbit_clean'].hist()"
   ]
  },
  {
   "cell_type": "code",
   "execution_count": 19,
   "metadata": {},
   "outputs": [],
   "source": [
    "min_ = df['upload_mbit_wo_outliers'].min()\n",
    "max_ = df['upload_mbit_wo_outliers'].max()\n",
    "\n",
    "df_features['upload_mbit_clean'] = (df['upload_mbit_wo_outliers'] - min_) / max_"
   ]
  },
  {
   "cell_type": "markdown",
   "metadata": {},
   "source": [
    "## ratio_up_down"
   ]
  },
  {
   "cell_type": "code",
   "execution_count": 20,
   "metadata": {},
   "outputs": [],
   "source": [
    "df_features['ratio_up_down'] = (df_features['upload_mbit_clean'] / df_features['download_mbit_clean']).replace(np.inf, np.nan)\n",
    "df_features['ratio_up_down'] = clip_outliers(df_features['ratio_up_down'])"
   ]
  },
  {
   "cell_type": "code",
   "execution_count": 21,
   "metadata": {},
   "outputs": [
    {
     "data": {
      "image/png": "[encoded data removed]",
      "text/plain": [
       "<Figure size 400x300 with 1 Axes>"
      ]
     },
     "metadata": {},
     "output_type": "display_data"
    }
   ],
   "source": [
    "df_features['ratio_up_down'].hist(bins=np.arange(0, 15, 0.1))\n",
    "plt.title('ratio up down')\n",
    "plt.show()"
   ]
  },
  {
   "cell_type": "code",
   "execution_count": 22,
   "metadata": {},
   "outputs": [],
   "source": [
    "# Select columns and fillna\n",
    "df_features = df_features[[\n",
    "    'hour_of_day_cet',\n",
    "    'day_of_week_cet',\n",
    "    'download_mbit_clean',\n",
    "    'ratio_up_down'\n",
    "]].fillna(0)"
   ]
  },
  {
   "cell_type": "markdown",
   "metadata": {},
   "source": [
    "## Put it all into a function?"
   ]
  },
  {
   "cell_type": "code",
   "execution_count": 23,
   "metadata": {},
   "outputs": [],
   "source": [
    "def get_features(df: pd.DataFrame) -> pd.DataFrame:\n",
    "    df = df.copy()\n",
    "    df_features = pd.DataFrame()\n",
    "\n",
    "    # Convert utc to cet\n",
    "    df['time_cet'] = pd.to_datetime(df['time_utc'], utc=True).dt.tz_convert('Europe/Berlin')\n",
    "\n",
    "    # Extract hour\n",
    "    df_features['hour_of_day_cet'] = df['time_cet'].dt.hour\n",
    "\n",
    "    # Extract day of week\n",
    "    df_features['day_of_week_cet'] = df['time_cet'].dt.weekday\n",
    "\n",
    "    # Clip outliers\n",
    "    df['download_mbit_wo_outliers'] = clip_outliers(df['download_mbit'])\n",
    "    df['upload_mbit_wo_outliers'] = clip_outliers(df['upload_mbit'])\n",
    "\n",
    "    # Min-Max scaling\n",
    "    df_to_scale = df[['download_mbit_wo_outliers', 'upload_mbit_wo_outliers']]\n",
    "\n",
    "    min_ = df_to_scale.min()\n",
    "    max_ = df_to_scale.max()\n",
    "\n",
    "    df_features[['download_mbit_clean', 'upload_mbit_clean']] = (df_to_scale - min_) / max_\n",
    "\n",
    "    # Ratio up-down\n",
    "    df_features['ratio_up_down'] = (df_features['upload_mbit_clean'] / df_features['download_mbit_clean']).replace(np.inf, np.nan)\n",
    "    df_features['ratio_up_down'] = clip_outliers(df_features['ratio_up_down'])\n",
    "\n",
    "    # Select features & fillna\n",
    "    df_features = df_features[[\n",
    "        'hour_of_day_cet',\n",
    "        'day_of_week_cet',\n",
    "        'download_mbit_clean',\n",
    "        'ratio_up_down'\n",
    "    ]].fillna(0)\n",
    "\n",
    "    return df_features"
   ]
  },
  {
   "cell_type": "code",
   "execution_count": 25,
   "metadata": {},
   "outputs": [],
   "source": [
    "X = df.copy()\n",
    "y = X.pop(TARGET)\n",
    "\n",
    "X_train, X_test, y_train, y_test = train_test_split(X, y, test_size=1/3, random_state=42)\n",
    "\n",
    "X_train = get_features(X_train)\n",
    "X_test = get_features(X_test)"
   ]
  },
  {
   "cell_type": "code",
   "execution_count": 26,
   "metadata": {},
   "outputs": [
    {
     "data": {
      "text/html": [
       "<div>\n",
       "<style scoped>\n",
       "    .dataframe tbody tr th:only-of-type {\n",
       "        vertical-align: middle;\n",
       "    }\n",
       "\n",
       "    .dataframe tbody tr th {\n",
       "        vertical-align: top;\n",
       "    }\n",
       "\n",
       "    .dataframe thead th {\n",
       "        text-align: right;\n",
       "    }\n",
       "</style>\n",
       "<table border=\"1\" class=\"dataframe\">\n",
       "  <thead>\n",
       "    <tr style=\"text-align: right;\">\n",
       "      <th></th>\n",
       "      <th>hour_of_day_cet</th>\n",
       "      <th>day_of_week_cet</th>\n",
       "      <th>download_mbit_clean</th>\n",
       "      <th>ratio_up_down</th>\n",
       "    </tr>\n",
       "  </thead>\n",
       "  <tbody>\n",
       "    <tr>\n",
       "      <th>4188</th>\n",
       "      <td>12</td>\n",
       "      <td>2</td>\n",
       "      <td>0.015246</td>\n",
       "      <td>0.288582</td>\n",
       "    </tr>\n",
       "    <tr>\n",
       "      <th>11944</th>\n",
       "      <td>18</td>\n",
       "      <td>1</td>\n",
       "      <td>0.016415</td>\n",
       "      <td>0.348830</td>\n",
       "    </tr>\n",
       "    <tr>\n",
       "      <th>18692</th>\n",
       "      <td>13</td>\n",
       "      <td>0</td>\n",
       "      <td>0.009483</td>\n",
       "      <td>1.076830</td>\n",
       "    </tr>\n",
       "    <tr>\n",
       "      <th>34669</th>\n",
       "      <td>20</td>\n",
       "      <td>5</td>\n",
       "      <td>0.010861</td>\n",
       "      <td>1.742512</td>\n",
       "    </tr>\n",
       "    <tr>\n",
       "      <th>1843</th>\n",
       "      <td>17</td>\n",
       "      <td>0</td>\n",
       "      <td>0.264769</td>\n",
       "      <td>2.051085</td>\n",
       "    </tr>\n",
       "  </tbody>\n",
       "</table>\n",
       "</div>"
      ],
      "text/plain": [
       "       hour_of_day_cet  day_of_week_cet  download_mbit_clean  ratio_up_down\n",
       "4188                12                2             0.015246       0.288582\n",
       "11944               18                1             0.016415       0.348830\n",
       "18692               13                0             0.009483       1.076830\n",
       "34669               20                5             0.010861       1.742512\n",
       "1843                17                0             0.264769       2.051085"
      ]
     },
     "execution_count": 26,
     "metadata": {},
     "output_type": "execute_result"
    }
   ],
   "source": [
    "X_train.sample(5)"
   ]
  },
  {
   "cell_type": "markdown",
   "metadata": {},
   "source": [
    "# What is problematic about this?\n",
    "* Artefacts of dataset-level transformations (mins, max, percentiles) are not stored but recalculated on each run, leading to inconsitent transformations\n",
    "* Resulting dataset is no longer (easily) interpretable: Is 2 a Tuesday or Wednesday? - Depends on the library that was used!\n",
    "* Function is a nightmare to read & debug because of lack of modularity and many implicit assumptions about structure of the input data\n",
    "* Trained model is tightly coupled to feature-generating process, yet seperated'"
   ]
  }
 ],
 "metadata": {
  "interpreter": {
   "hash": "52aec3629970dfe7c1aa8c85d88da8e493bb0e76222bea35c219a0da88f85af9"
  },
  "kernelspec": {
   "display_name": "Python 3.10.0 ('speedtest')",
   "language": "python",
   "name": "python3"
  },
  "language_info": {
   "codemirror_mode": {
    "name": "ipython",
    "version": 3
   },
   "file_extension": ".py",
   "mimetype": "text/x-python",
   "name": "python",
   "nbconvert_exporter": "python",
   "pygments_lexer": "ipython3",
   "version": "3.11.5"
  },
  "orig_nbformat": 2
 },
 "nbformat": 4,
 "nbformat_minor": 2
}
