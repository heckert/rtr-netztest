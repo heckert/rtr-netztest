{
 "cells": [
  {
   "cell_type": "code",
   "execution_count": 1,
   "metadata": {},
   "outputs": [],
   "source": [
    "%load_ext autoreload\n",
    "%autoreload 2"
   ]
  },
  {
   "cell_type": "code",
   "execution_count": 2,
   "metadata": {},
   "outputs": [],
   "source": [
    "import lightgbm as lgb\n",
    "import pandas as pd\n",
    "import numpy as np\n",
    "import pathlib\n",
    "\n",
    "from omegaconf import OmegaConf\n",
    "from sklearn.model_selection import train_test_split, GridSearchCV\n",
    "from sklearn.compose import ColumnTransformer\n",
    "from sklearn.pipeline import Pipeline, make_pipeline\n",
    "from sklearn.preprocessing import StandardScaler, OneHotEncoder\n",
    "from sklearn.impute import SimpleImputer\n",
    "\n",
    "from src.utils.transform import (HourExtractor, WeekendExtractor, \n",
    "    FeatureCrosser, FringeCategoryBucketer)"
   ]
  },
  {
   "cell_type": "code",
   "execution_count": 3,
   "metadata": {},
   "outputs": [],
   "source": [
    "cfg = OmegaConf.load('../config.yaml')"
   ]
  },
  {
   "cell_type": "code",
   "execution_count": 4,
   "metadata": {},
   "outputs": [],
   "source": [
    "processed_data_dir = '..' / pathlib.Path(cfg.paths.data.processed)\n",
    "processed_file = processed_data_dir / cfg.files.processed_dataset\n",
    "\n",
    "df = pd.read_csv(processed_file)"
   ]
  },
  {
   "cell_type": "code",
   "execution_count": 5,
   "metadata": {},
   "outputs": [
    {
     "name": "stdout",
     "output_type": "stream",
     "text": [
      "<class 'pandas.core.frame.DataFrame'>\n",
      "RangeIndex: 38182 entries, 0 to 38181\n",
      "Data columns (total 11 columns):\n",
      " #   Column           Non-Null Count  Dtype  \n",
      "---  ------           --------------  -----  \n",
      " 0   lat              33983 non-null  float64\n",
      " 1   long             33983 non-null  float64\n",
      " 2   download_mbit    38182 non-null  float64\n",
      " 3   upload_mbit      38182 non-null  float64\n",
      " 4   ping_ms          38180 non-null  float64\n",
      " 5   lte_rsrp         23828 non-null  float64\n",
      " 6   signal_strength  1335 non-null   float64\n",
      " 7   platform         38182 non-null  object \n",
      " 8   network_name     24556 non-null  object \n",
      " 9   time_utc         38182 non-null  object \n",
      " 10  cat_technology   38182 non-null  object \n",
      "dtypes: float64(7), object(4)\n",
      "memory usage: 3.2+ MB\n"
     ]
    }
   ],
   "source": [
    "df.info()"
   ]
  },
  {
   "cell_type": "markdown",
   "metadata": {},
   "source": [
    "## Train Test Split"
   ]
  },
  {
   "cell_type": "code",
   "execution_count": 6,
   "metadata": {},
   "outputs": [],
   "source": [
    "X = df.copy()\n",
    "y = X.pop(cfg.target)\n",
    "\n",
    "X_train, X_test, y_train, y_test = train_test_split(X, y, test_size=1/3, random_state=42)\n",
    "#X_val, X_test, y_val, y_test = train_test_split(X_test, y_test, test_size=1/3, random_state=42)"
   ]
  },
  {
   "cell_type": "markdown",
   "metadata": {},
   "source": [
    "## Preprocessing pipeline"
   ]
  },
  {
   "cell_type": "markdown",
   "metadata": {},
   "source": [
    "### Feature prep for date field"
   ]
  },
  {
   "cell_type": "code",
   "execution_count": 7,
   "metadata": {},
   "outputs": [
    {
     "data": {
      "text/plain": [
       "array(['2022-03-09 15:32:26', '2022-03-20 17:14:43',\n",
       "       '2022-02-27 10:33:45', ..., '2022-03-27 08:23:57',\n",
       "       '2022-02-24 23:33:53', '2022-03-10 11:56:44'], dtype='<U19')"
      ]
     },
     "execution_count": 7,
     "metadata": {},
     "output_type": "execute_result"
    }
   ],
   "source": [
    "X_train['time_utc'].values.astype(str)"
   ]
  },
  {
   "cell_type": "code",
   "execution_count": 9,
   "metadata": {},
   "outputs": [
    {
     "data": {
      "text/plain": [
       "array([[15],\n",
       "       [17],\n",
       "       [10],\n",
       "       ...,\n",
       "       [ 8],\n",
       "       [23],\n",
       "       [11]])"
      ]
     },
     "execution_count": 9,
     "metadata": {},
     "output_type": "execute_result"
    }
   ],
   "source": [
    "dt = HourExtractor()\n",
    "hours = dt.fit_transform(X_train['time_utc'].values)\n",
    "hours"
   ]
  },
  {
   "cell_type": "code",
   "execution_count": 8,
   "metadata": {},
   "outputs": [
    {
     "data": {
      "text/plain": [
       "array([[0.],\n",
       "       [1.],\n",
       "       [1.],\n",
       "       ...,\n",
       "       [1.],\n",
       "       [0.],\n",
       "       [0.]])"
      ]
     },
     "execution_count": 8,
     "metadata": {},
     "output_type": "execute_result"
    }
   ],
   "source": [
    "dt = WeekendExtractor()\n",
    "weekend_yn = dt.fit_transform(X_train['time_utc'].values)\n",
    "weekend_yn"
   ]
  },
  {
   "cell_type": "code",
   "execution_count": 10,
   "metadata": {},
   "outputs": [
    {
     "data": {
      "text/plain": [
       "array([['0/15'],\n",
       "       ['1/17'],\n",
       "       ['1/10'],\n",
       "       ...,\n",
       "       ['1/8'],\n",
       "       ['0/23'],\n",
       "       ['0/11']], dtype='<U4')"
      ]
     },
     "execution_count": 10,
     "metadata": {},
     "output_type": "execute_result"
    }
   ],
   "source": [
    "dt = FeatureCrosser(sep='/')\n",
    "dt.fit_transform(np.column_stack([weekend_yn, hours]))"
   ]
  },
  {
   "cell_type": "markdown",
   "metadata": {},
   "source": [
    "### Feature prep for category with high cardinality"
   ]
  },
  {
   "cell_type": "code",
   "execution_count": 11,
   "metadata": {},
   "outputs": [
    {
     "data": {
      "text/plain": [
       "3 AT             6156\n",
       "A1               5037\n",
       "Magenta-T-       2639\n",
       "spusu            1093\n",
       "T-Mobile          891\n",
       "                 ... \n",
       "mobily              1\n",
       "NOVA IS             1\n",
       "NIGERTELECOMS       1\n",
       "ntel                1\n",
       "SYMA                1\n",
       "Name: network_name, Length: 456, dtype: int64"
      ]
     },
     "execution_count": 11,
     "metadata": {},
     "output_type": "execute_result"
    }
   ],
   "source": [
    "df.network_name.value_counts()"
   ]
  },
  {
   "cell_type": "code",
   "execution_count": 12,
   "metadata": {},
   "outputs": [
    {
     "data": {
      "text/plain": [
       "array(['INDOSATOOREDOO', 'I WIND', 'Red Bull MOBILE ', '3 AT',\n",
       "       'Red Bull MOBILE ', '3 AT', 'UNEFON 4G', 'spusu', 'Djezzy',\n",
       "       'Verizon ', 'A1', 'INDOSATOOREDOO', 'o2 - de+', 'o2 - de+', 'A1',\n",
       "       'Globe Telecom-PH', 'HoT', '3 AT', 'A1', 'spusu'], dtype=object)"
      ]
     },
     "execution_count": 12,
     "metadata": {},
     "output_type": "execute_result"
    }
   ],
   "source": [
    "df.network_name.values[:20]"
   ]
  },
  {
   "cell_type": "code",
   "execution_count": 13,
   "metadata": {},
   "outputs": [
    {
     "data": {
      "text/plain": [
       "array(['other', 'other', 'other', '3 AT', 'other', '3 AT', 'other',\n",
       "       'spusu', 'other', 'other', 'A1', 'other', 'other', 'other', 'A1',\n",
       "       'other', 'HoT', '3 AT', 'A1', 'spusu'], dtype='<U10')"
      ]
     },
     "execution_count": 13,
     "metadata": {},
     "output_type": "execute_result"
    }
   ],
   "source": [
    "fcb = FringeCategoryBucketer()\n",
    "fcb.fit_transform(df.network_name.values)[:20]"
   ]
  },
  {
   "cell_type": "code",
   "execution_count": 17,
   "metadata": {},
   "outputs": [
    {
     "data": {
      "text/html": [
       "<div>\n",
       "<style scoped>\n",
       "    .dataframe tbody tr th:only-of-type {\n",
       "        vertical-align: middle;\n",
       "    }\n",
       "\n",
       "    .dataframe tbody tr th {\n",
       "        vertical-align: top;\n",
       "    }\n",
       "\n",
       "    .dataframe thead th {\n",
       "        text-align: right;\n",
       "    }\n",
       "</style>\n",
       "<table border=\"1\" class=\"dataframe\">\n",
       "  <thead>\n",
       "    <tr style=\"text-align: right;\">\n",
       "      <th></th>\n",
       "      <th>0</th>\n",
       "      <th>1</th>\n",
       "      <th>2</th>\n",
       "      <th>3</th>\n",
       "      <th>4</th>\n",
       "      <th>5</th>\n",
       "      <th>6</th>\n",
       "      <th>7</th>\n",
       "      <th>8</th>\n",
       "      <th>9</th>\n",
       "      <th>10</th>\n",
       "      <th>11</th>\n",
       "      <th>12</th>\n",
       "      <th>13</th>\n",
       "      <th>14</th>\n",
       "      <th>15</th>\n",
       "      <th>16</th>\n",
       "      <th>17</th>\n",
       "      <th>18</th>\n",
       "      <th>19</th>\n",
       "    </tr>\n",
       "  </thead>\n",
       "  <tbody>\n",
       "    <tr>\n",
       "      <th>0</th>\n",
       "      <td>0.303936</td>\n",
       "      <td>0.048569</td>\n",
       "      <td>1.441792</td>\n",
       "      <td>-0.773054</td>\n",
       "      <td>-0.527348</td>\n",
       "      <td>0.413262</td>\n",
       "      <td>-0.176575</td>\n",
       "      <td>1.0</td>\n",
       "      <td>0.0</td>\n",
       "      <td>1.0</td>\n",
       "      <td>0.0</td>\n",
       "      <td>0.0</td>\n",
       "      <td>0.0</td>\n",
       "      <td>0.0</td>\n",
       "      <td>0.0</td>\n",
       "      <td>0.0</td>\n",
       "      <td>0.0</td>\n",
       "      <td>0.0</td>\n",
       "      <td>0.0</td>\n",
       "      <td>15.0</td>\n",
       "    </tr>\n",
       "    <tr>\n",
       "      <th>1</th>\n",
       "      <td>0.290371</td>\n",
       "      <td>0.029523</td>\n",
       "      <td>-0.700020</td>\n",
       "      <td>-0.830673</td>\n",
       "      <td>-0.040330</td>\n",
       "      <td>-0.101191</td>\n",
       "      <td>-0.176575</td>\n",
       "      <td>0.0</td>\n",
       "      <td>1.0</td>\n",
       "      <td>0.0</td>\n",
       "      <td>0.0</td>\n",
       "      <td>0.0</td>\n",
       "      <td>0.0</td>\n",
       "      <td>0.0</td>\n",
       "      <td>0.0</td>\n",
       "      <td>1.0</td>\n",
       "      <td>0.0</td>\n",
       "      <td>0.0</td>\n",
       "      <td>1.0</td>\n",
       "      <td>17.0</td>\n",
       "    </tr>\n",
       "    <tr>\n",
       "      <th>2</th>\n",
       "      <td>0.300700</td>\n",
       "      <td>0.048317</td>\n",
       "      <td>2.982593</td>\n",
       "      <td>0.273978</td>\n",
       "      <td>-0.530163</td>\n",
       "      <td>2.471073</td>\n",
       "      <td>-0.176575</td>\n",
       "      <td>1.0</td>\n",
       "      <td>0.0</td>\n",
       "      <td>0.0</td>\n",
       "      <td>0.0</td>\n",
       "      <td>0.0</td>\n",
       "      <td>0.0</td>\n",
       "      <td>0.0</td>\n",
       "      <td>1.0</td>\n",
       "      <td>0.0</td>\n",
       "      <td>0.0</td>\n",
       "      <td>0.0</td>\n",
       "      <td>1.0</td>\n",
       "      <td>10.0</td>\n",
       "    </tr>\n",
       "    <tr>\n",
       "      <th>3</th>\n",
       "      <td>0.303769</td>\n",
       "      <td>0.049294</td>\n",
       "      <td>-0.664913</td>\n",
       "      <td>-0.792403</td>\n",
       "      <td>-0.452747</td>\n",
       "      <td>-0.101191</td>\n",
       "      <td>-0.176575</td>\n",
       "      <td>1.0</td>\n",
       "      <td>0.0</td>\n",
       "      <td>0.0</td>\n",
       "      <td>0.0</td>\n",
       "      <td>0.0</td>\n",
       "      <td>0.0</td>\n",
       "      <td>0.0</td>\n",
       "      <td>0.0</td>\n",
       "      <td>0.0</td>\n",
       "      <td>0.0</td>\n",
       "      <td>1.0</td>\n",
       "      <td>0.0</td>\n",
       "      <td>20.0</td>\n",
       "    </tr>\n",
       "    <tr>\n",
       "      <th>4</th>\n",
       "      <td>-0.590368</td>\n",
       "      <td>-4.541050</td>\n",
       "      <td>-0.631824</td>\n",
       "      <td>-0.451348</td>\n",
       "      <td>3.647494</td>\n",
       "      <td>-0.615644</td>\n",
       "      <td>-0.176575</td>\n",
       "      <td>1.0</td>\n",
       "      <td>0.0</td>\n",
       "      <td>0.0</td>\n",
       "      <td>0.0</td>\n",
       "      <td>0.0</td>\n",
       "      <td>0.0</td>\n",
       "      <td>0.0</td>\n",
       "      <td>0.0</td>\n",
       "      <td>1.0</td>\n",
       "      <td>0.0</td>\n",
       "      <td>0.0</td>\n",
       "      <td>0.0</td>\n",
       "      <td>17.0</td>\n",
       "    </tr>\n",
       "    <tr>\n",
       "      <th>...</th>\n",
       "      <td>...</td>\n",
       "      <td>...</td>\n",
       "      <td>...</td>\n",
       "      <td>...</td>\n",
       "      <td>...</td>\n",
       "      <td>...</td>\n",
       "      <td>...</td>\n",
       "      <td>...</td>\n",
       "      <td>...</td>\n",
       "      <td>...</td>\n",
       "      <td>...</td>\n",
       "      <td>...</td>\n",
       "      <td>...</td>\n",
       "      <td>...</td>\n",
       "      <td>...</td>\n",
       "      <td>...</td>\n",
       "      <td>...</td>\n",
       "      <td>...</td>\n",
       "      <td>...</td>\n",
       "      <td>...</td>\n",
       "    </tr>\n",
       "    <tr>\n",
       "      <th>25449</th>\n",
       "      <td>0.290371</td>\n",
       "      <td>0.029523</td>\n",
       "      <td>-0.068669</td>\n",
       "      <td>-0.891811</td>\n",
       "      <td>0.027233</td>\n",
       "      <td>-0.529902</td>\n",
       "      <td>-0.176575</td>\n",
       "      <td>1.0</td>\n",
       "      <td>0.0</td>\n",
       "      <td>0.0</td>\n",
       "      <td>0.0</td>\n",
       "      <td>0.0</td>\n",
       "      <td>0.0</td>\n",
       "      <td>0.0</td>\n",
       "      <td>0.0</td>\n",
       "      <td>0.0</td>\n",
       "      <td>1.0</td>\n",
       "      <td>0.0</td>\n",
       "      <td>0.0</td>\n",
       "      <td>9.0</td>\n",
       "    </tr>\n",
       "    <tr>\n",
       "      <th>25450</th>\n",
       "      <td>0.287359</td>\n",
       "      <td>0.048444</td>\n",
       "      <td>0.062341</td>\n",
       "      <td>0.755801</td>\n",
       "      <td>-0.383776</td>\n",
       "      <td>0.841972</td>\n",
       "      <td>-0.176575</td>\n",
       "      <td>1.0</td>\n",
       "      <td>0.0</td>\n",
       "      <td>1.0</td>\n",
       "      <td>0.0</td>\n",
       "      <td>0.0</td>\n",
       "      <td>0.0</td>\n",
       "      <td>0.0</td>\n",
       "      <td>0.0</td>\n",
       "      <td>0.0</td>\n",
       "      <td>0.0</td>\n",
       "      <td>0.0</td>\n",
       "      <td>1.0</td>\n",
       "      <td>16.0</td>\n",
       "    </tr>\n",
       "    <tr>\n",
       "      <th>25451</th>\n",
       "      <td>0.198171</td>\n",
       "      <td>0.017963</td>\n",
       "      <td>-0.606810</td>\n",
       "      <td>-0.580087</td>\n",
       "      <td>-0.390814</td>\n",
       "      <td>-0.101191</td>\n",
       "      <td>-0.176575</td>\n",
       "      <td>0.0</td>\n",
       "      <td>1.0</td>\n",
       "      <td>0.0</td>\n",
       "      <td>0.0</td>\n",
       "      <td>0.0</td>\n",
       "      <td>0.0</td>\n",
       "      <td>0.0</td>\n",
       "      <td>0.0</td>\n",
       "      <td>1.0</td>\n",
       "      <td>0.0</td>\n",
       "      <td>0.0</td>\n",
       "      <td>1.0</td>\n",
       "      <td>8.0</td>\n",
       "    </tr>\n",
       "    <tr>\n",
       "      <th>25452</th>\n",
       "      <td>0.809236</td>\n",
       "      <td>-0.161661</td>\n",
       "      <td>-0.699030</td>\n",
       "      <td>-0.783038</td>\n",
       "      <td>-0.178271</td>\n",
       "      <td>-0.358418</td>\n",
       "      <td>-0.176575</td>\n",
       "      <td>1.0</td>\n",
       "      <td>0.0</td>\n",
       "      <td>0.0</td>\n",
       "      <td>0.0</td>\n",
       "      <td>0.0</td>\n",
       "      <td>0.0</td>\n",
       "      <td>0.0</td>\n",
       "      <td>0.0</td>\n",
       "      <td>0.0</td>\n",
       "      <td>1.0</td>\n",
       "      <td>0.0</td>\n",
       "      <td>0.0</td>\n",
       "      <td>23.0</td>\n",
       "    </tr>\n",
       "    <tr>\n",
       "      <th>25453</th>\n",
       "      <td>0.305820</td>\n",
       "      <td>0.054980</td>\n",
       "      <td>0.306371</td>\n",
       "      <td>0.897139</td>\n",
       "      <td>-0.319028</td>\n",
       "      <td>0.841972</td>\n",
       "      <td>-0.176575</td>\n",
       "      <td>1.0</td>\n",
       "      <td>0.0</td>\n",
       "      <td>0.0</td>\n",
       "      <td>1.0</td>\n",
       "      <td>0.0</td>\n",
       "      <td>0.0</td>\n",
       "      <td>0.0</td>\n",
       "      <td>0.0</td>\n",
       "      <td>0.0</td>\n",
       "      <td>0.0</td>\n",
       "      <td>0.0</td>\n",
       "      <td>0.0</td>\n",
       "      <td>11.0</td>\n",
       "    </tr>\n",
       "  </tbody>\n",
       "</table>\n",
       "<p>25454 rows × 20 columns</p>\n",
       "</div>"
      ],
      "text/plain": [
       "             0         1         2         3         4         5         6   \\\n",
       "0      0.303936  0.048569  1.441792 -0.773054 -0.527348  0.413262 -0.176575   \n",
       "1      0.290371  0.029523 -0.700020 -0.830673 -0.040330 -0.101191 -0.176575   \n",
       "2      0.300700  0.048317  2.982593  0.273978 -0.530163  2.471073 -0.176575   \n",
       "3      0.303769  0.049294 -0.664913 -0.792403 -0.452747 -0.101191 -0.176575   \n",
       "4     -0.590368 -4.541050 -0.631824 -0.451348  3.647494 -0.615644 -0.176575   \n",
       "...         ...       ...       ...       ...       ...       ...       ...   \n",
       "25449  0.290371  0.029523 -0.068669 -0.891811  0.027233 -0.529902 -0.176575   \n",
       "25450  0.287359  0.048444  0.062341  0.755801 -0.383776  0.841972 -0.176575   \n",
       "25451  0.198171  0.017963 -0.606810 -0.580087 -0.390814 -0.101191 -0.176575   \n",
       "25452  0.809236 -0.161661 -0.699030 -0.783038 -0.178271 -0.358418 -0.176575   \n",
       "25453  0.305820  0.054980  0.306371  0.897139 -0.319028  0.841972 -0.176575   \n",
       "\n",
       "        7    8    9    10   11   12   13   14   15   16   17   18    19  \n",
       "0      1.0  0.0  1.0  0.0  0.0  0.0  0.0  0.0  0.0  0.0  0.0  0.0  15.0  \n",
       "1      0.0  1.0  0.0  0.0  0.0  0.0  0.0  0.0  1.0  0.0  0.0  1.0  17.0  \n",
       "2      1.0  0.0  0.0  0.0  0.0  0.0  0.0  1.0  0.0  0.0  0.0  1.0  10.0  \n",
       "3      1.0  0.0  0.0  0.0  0.0  0.0  0.0  0.0  0.0  0.0  1.0  0.0  20.0  \n",
       "4      1.0  0.0  0.0  0.0  0.0  0.0  0.0  0.0  1.0  0.0  0.0  0.0  17.0  \n",
       "...    ...  ...  ...  ...  ...  ...  ...  ...  ...  ...  ...  ...   ...  \n",
       "25449  1.0  0.0  0.0  0.0  0.0  0.0  0.0  0.0  0.0  1.0  0.0  0.0   9.0  \n",
       "25450  1.0  0.0  1.0  0.0  0.0  0.0  0.0  0.0  0.0  0.0  0.0  1.0  16.0  \n",
       "25451  0.0  1.0  0.0  0.0  0.0  0.0  0.0  0.0  1.0  0.0  0.0  1.0   8.0  \n",
       "25452  1.0  0.0  0.0  0.0  0.0  0.0  0.0  0.0  0.0  1.0  0.0  0.0  23.0  \n",
       "25453  1.0  0.0  0.0  1.0  0.0  0.0  0.0  0.0  0.0  0.0  0.0  0.0  11.0  \n",
       "\n",
       "[25454 rows x 20 columns]"
      ]
     },
     "execution_count": 17,
     "metadata": {},
     "output_type": "execute_result"
    }
   ],
   "source": [
    "# Full transformer pipeline\n",
    "numeric_transformer = make_pipeline(\n",
    "    StandardScaler(), SimpleImputer(strategy='median')\n",
    ")\n",
    "\n",
    "categorical_transformer = make_pipeline(\n",
    "    FringeCategoryBucketer(), OneHotEncoder(handle_unknown='ignore')\n",
    ")\n",
    "\n",
    "weekend_transformer = make_pipeline(\n",
    "    SimpleImputer(strategy='most_frequent'), WeekendExtractor()\n",
    ") \n",
    "\n",
    "hour_transformer = make_pipeline(\n",
    "    SimpleImputer(strategy='most_frequent'), HourExtractor()\n",
    ")\n",
    "\n",
    "preprocessor = ColumnTransformer(\n",
    "    transformers=[\n",
    "        ('numerics', numeric_transformer, list(cfg.inputs.numerics)),\n",
    "        ('categories', categorical_transformer, list(cfg.inputs.categories)),\n",
    "        ('weekend', weekend_transformer, list(cfg.inputs.datetimes)),\n",
    "        ('hour', hour_transformer, list(cfg.inputs.datetimes)),\n",
    "    ]\n",
    ")\n",
    "\n",
    "pd.DataFrame(preprocessor.fit_transform(X_train))"
   ]
  }
 ],
 "metadata": {
  "interpreter": {
   "hash": "6242a39b9af1ed8ec400408cd096191c980245920e43fbe21f27396777802836"
  },
  "kernelspec": {
   "display_name": "Python 3.8.12 ('speedtest-classification')",
   "language": "python",
   "name": "python3"
  },
  "language_info": {
   "codemirror_mode": {
    "name": "ipython",
    "version": 3
   },
   "file_extension": ".py",
   "mimetype": "text/x-python",
   "name": "python",
   "nbconvert_exporter": "python",
   "pygments_lexer": "ipython3",
   "version": "3.8.12"
  },
  "orig_nbformat": 4
 },
 "nbformat": 4,
 "nbformat_minor": 2
}
