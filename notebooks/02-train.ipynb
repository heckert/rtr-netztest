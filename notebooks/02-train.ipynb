{
 "cells": [
  {
   "cell_type": "code",
   "execution_count": 1,
   "metadata": {},
   "outputs": [],
   "source": [
    "%load_ext autoreload\n",
    "%autoreload 2"
   ]
  },
  {
   "cell_type": "code",
   "execution_count": 2,
   "metadata": {},
   "outputs": [],
   "source": [
    "import lightgbm as lgb\n",
    "import pandas as pd\n",
    "import numpy as np\n",
    "import pathlib\n",
    "\n",
    "from omegaconf import OmegaConf\n",
    "from sklearn.model_selection import train_test_split, GridSearchCV\n",
    "from sklearn.compose import ColumnTransformer\n",
    "from sklearn.pipeline import Pipeline\n",
    "from sklearn.preprocessing import StandardScaler, OneHotEncoder\n",
    "\n",
    "from src.utils.visualization import plot_comparison_histogram\n",
    "from src.utils.evaluation import evaluate"
   ]
  },
  {
   "cell_type": "code",
   "execution_count": 3,
   "metadata": {},
   "outputs": [],
   "source": [
    "cfg = OmegaConf.load('../config.yaml')"
   ]
  },
  {
   "cell_type": "code",
   "execution_count": 4,
   "metadata": {},
   "outputs": [],
   "source": [
    "processed_data_dir = '..' / pathlib.Path(cfg.paths.data.processed)\n",
    "processed_file = processed_data_dir / cfg.files.processed_dataset\n",
    "\n",
    "df = pd.read_csv(processed_file)"
   ]
  },
  {
   "cell_type": "code",
   "execution_count": 5,
   "metadata": {},
   "outputs": [
    {
     "name": "stdout",
     "output_type": "stream",
     "text": [
      "<class 'pandas.core.frame.DataFrame'>\n",
      "RangeIndex: 37835 entries, 0 to 37834\n",
      "Data columns (total 10 columns):\n",
      " #   Column           Non-Null Count  Dtype  \n",
      "---  ------           --------------  -----  \n",
      " 0   lat              33608 non-null  float64\n",
      " 1   long             33608 non-null  float64\n",
      " 2   download_mbit    37835 non-null  float64\n",
      " 3   upload_mbit      37835 non-null  float64\n",
      " 4   ping_ms          37833 non-null  float64\n",
      " 5   lte_rsrp         23527 non-null  float64\n",
      " 6   signal_strength  1326 non-null   float64\n",
      " 7   platform         37835 non-null  object \n",
      " 8   network_name     24275 non-null  object \n",
      " 9   cat_technology   37835 non-null  object \n",
      "dtypes: float64(7), object(3)\n",
      "memory usage: 2.9+ MB\n"
     ]
    }
   ],
   "source": [
    "df.info()"
   ]
  },
  {
   "cell_type": "markdown",
   "metadata": {},
   "source": [
    "## Train Test Split"
   ]
  },
  {
   "cell_type": "code",
   "execution_count": 6,
   "metadata": {},
   "outputs": [],
   "source": [
    "X = df.copy()\n",
    "y = X.pop(cfg.target)\n",
    "\n",
    "X_train, X_test, y_train, y_test = train_test_split(X, y, test_size=1/3, random_state=42)\n",
    "#X_val, X_test, y_val, y_test = train_test_split(X_test, y_test, test_size=1/3, random_state=42)"
   ]
  },
  {
   "cell_type": "markdown",
   "metadata": {},
   "source": [
    "## Baseline Model"
   ]
  },
  {
   "cell_type": "code",
   "execution_count": 7,
   "metadata": {},
   "outputs": [],
   "source": [
    "# We define upper limits for download speed\n",
    "# as thresholds for the baseline model.\n",
    "# E.g., if download-speed is less than\n",
    "# 20 mbit/s, we assume its 3G,\n",
    "# if it is between that and 150 mbit/s\n",
    "# we say 4G, and beyond that we will return 5G\n",
    "upper_limits = {\n",
    "    '3G': 20,\n",
    "    '4G': 150,\n",
    "}"
   ]
  },
  {
   "cell_type": "code",
   "execution_count": 8,
   "metadata": {},
   "outputs": [
    {
     "data": {
      "image/png": "[encoded data removed]",
      "text/plain": [
       "<Figure size 432x288 with 1 Axes>"
      ]
     },
     "metadata": {
      "needs_background": "light"
     },
     "output_type": "display_data"
    }
   ],
   "source": [
    "plot_comparison_histogram(\n",
    "    X_train.download_mbit,\n",
    "    y_train,\n",
    "    bins=np.arange(0,400,5),\n",
    "    vlines=upper_limits.values(),\n",
    "    title='Cut-off values for baseline model'\n",
    ")"
   ]
  },
  {
   "cell_type": "code",
   "execution_count": 9,
   "metadata": {},
   "outputs": [],
   "source": [
    "class BaselineModel:\n",
    "    def __init__(self, **upper_limits):\n",
    "        self.upper_limits = upper_limits\n",
    "\n",
    "    def fit(self, X, y):\n",
    "        # Upper limits contains 3G and 4G\n",
    "        # Values above 4G upper limit should be 5G\n",
    "        # Extract open_category (=5G) by comparing \n",
    "        # keys in upper_limits and all available categories\n",
    "        # in y\n",
    "        all_categories = set(y.unique())\n",
    "        covered_categories = set(self.upper_limits.keys())\n",
    "        open_category = all_categories - covered_categories\n",
    "        self.open_category = list(open_category)[0]\n",
    "\n",
    "        # Create series from upper_limits and order\n",
    "        # descending (highest on top).\n",
    "        self.ordered_limits = pd.Series(self.upper_limits).sort_values(ascending=False)\n",
    "\n",
    "    def transform(self, X):\n",
    "        # Prepare array in length of y\n",
    "        y_pred = pd.Series(0, index=X.index)\n",
    "        \n",
    "        # Values above highest limit are assigned the open\n",
    "        # category (-> 5G)\n",
    "        y_pred.loc[X >= self.ordered_limits[0]] = self.open_category\n",
    "        # Then, iterate through the ordered limits and\n",
    "        # assign the label if X is smaller than the upper_limit\n",
    "        for label, limit in self.ordered_limits.iteritems():\n",
    "            y_pred.loc[X < limit] = label\n",
    "        \n",
    "        return y_pred \n",
    "\n",
    "    def fit_transform(self, X, y):\n",
    "        self.fit(X, y)\n",
    "        result = self.transform(X)\n",
    "\n",
    "        return result\n",
    "        \n",
    "baseline = BaselineModel(**upper_limits)\n",
    "y_test_baseline = baseline.fit_transform(X_test.download_mbit, y_test)"
   ]
  },
  {
   "cell_type": "code",
   "execution_count": 10,
   "metadata": {},
   "outputs": [
    {
     "data": {
      "image/png": "[encoded data removed]",
      "text/plain": [
       "<Figure size 432x288 with 2 Axes>"
      ]
     },
     "metadata": {
      "needs_background": "light"
     },
     "output_type": "display_data"
    },
    {
     "name": "stdout",
     "output_type": "stream",
     "text": [
      "              precision    recall  f1-score   support\n",
      "\n",
      "          3G       0.13      0.91      0.22       539\n",
      "          4G       0.88      0.59      0.71      9615\n",
      "          5G       0.69      0.61      0.65      2458\n",
      "\n",
      "    accuracy                           0.61     12612\n",
      "   macro avg       0.56      0.70      0.52     12612\n",
      "weighted avg       0.81      0.61      0.67     12612\n",
      "\n",
      "AVG PRECISION: 0.562 (macro)\n",
      "AVG RECALL: 0.705 (macro)\n",
      "AVG F1: 0.525 (macro)\n"
     ]
    }
   ],
   "source": [
    "evaluate(y_test, y_test_baseline, title='Baseline Model')"
   ]
  },
  {
   "cell_type": "markdown",
   "metadata": {},
   "source": [
    "## Preprocessing pipeline"
   ]
  },
  {
   "cell_type": "code",
   "execution_count": 11,
   "metadata": {},
   "outputs": [],
   "source": [
    "# TODO:\n",
    "# * column transformer pipeline\n",
    "# * custom transformers for feature generation"
   ]
  },
  {
   "cell_type": "markdown",
   "metadata": {},
   "source": [
    "## LightGBM Model"
   ]
  },
  {
   "cell_type": "code",
   "execution_count": 12,
   "metadata": {},
   "outputs": [],
   "source": [
    "# TODO\n",
    "# sklearn interface\n",
    "# https://lightgbm.readthedocs.io/en/latest/pythonapi/lightgbm.LGBMClassifier.html"
   ]
  }
 ],
 "metadata": {
  "interpreter": {
   "hash": "859b5ecb5e0ef6a144eadf5ebe8efd06446adffb4d8ba928f1d973c84dda10a1"
  },
  "kernelspec": {
   "display_name": "Python 3.9.0 ('rtr-netztest')",
   "language": "python",
   "name": "python3"
  },
  "language_info": {
   "codemirror_mode": {
    "name": "ipython",
    "version": 3
   },
   "file_extension": ".py",
   "mimetype": "text/x-python",
   "name": "python",
   "nbconvert_exporter": "python",
   "pygments_lexer": "ipython3",
   "version": "3.8.12"
  },
  "orig_nbformat": 4
 },
 "nbformat": 4,
 "nbformat_minor": 2
}
