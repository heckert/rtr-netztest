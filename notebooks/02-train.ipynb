{
 "cells": [
  {
   "cell_type": "code",
   "execution_count": 1,
   "metadata": {},
   "outputs": [],
   "source": [
    "%load_ext autoreload\n",
    "%autoreload 2"
   ]
  },
  {
   "cell_type": "code",
   "execution_count": 2,
   "metadata": {},
   "outputs": [],
   "source": [
    "import pandas as pd\n",
    "import numpy as np\n",
    "import matplotlib.pyplot as plt\n",
    "import pathlib\n",
    "\n",
    "from omegaconf import OmegaConf\n",
    "from sklearn.model_selection import train_test_split\n",
    "from sklearn.metrics import multilabel_confusion_matrix\n",
    "\n",
    "from src.utils.visualization import plot_comparison_histogram"
   ]
  },
  {
   "cell_type": "code",
   "execution_count": 3,
   "metadata": {},
   "outputs": [],
   "source": [
    "cfg = OmegaConf.load('../config.yaml')"
   ]
  },
  {
   "cell_type": "code",
   "execution_count": 4,
   "metadata": {},
   "outputs": [],
   "source": [
    "processed_data_dir = '..' / pathlib.Path(cfg.paths.data.processed)\n",
    "processed_file = processed_data_dir / cfg.files.processed_dataset\n",
    "\n",
    "df = pd.read_csv(processed_file)"
   ]
  },
  {
   "cell_type": "code",
   "execution_count": 5,
   "metadata": {},
   "outputs": [
    {
     "name": "stdout",
     "output_type": "stream",
     "text": [
      "<class 'pandas.core.frame.DataFrame'>\n",
      "RangeIndex: 38377 entries, 0 to 38376\n",
      "Data columns (total 12 columns):\n",
      " #   Column           Non-Null Count  Dtype  \n",
      "---  ------           --------------  -----  \n",
      " 0   lat              33530 non-null  float64\n",
      " 1   long             33530 non-null  float64\n",
      " 2   download_kbit    38377 non-null  float64\n",
      " 3   upload_kbit      38377 non-null  float64\n",
      " 4   ping_ms          38377 non-null  float64\n",
      " 5   lte_rsrp         24675 non-null  float64\n",
      " 6   signal_strength  3382 non-null   float64\n",
      " 7   hour             38377 non-null  float64\n",
      " 8   platform         38371 non-null  object \n",
      " 9   network_name     25176 non-null  object \n",
      " 10  hour_cat         38035 non-null  object \n",
      " 11  cat_technology   38377 non-null  object \n",
      "dtypes: float64(8), object(4)\n",
      "memory usage: 3.5+ MB\n"
     ]
    }
   ],
   "source": [
    "df.info()"
   ]
  },
  {
   "cell_type": "markdown",
   "metadata": {},
   "source": [
    "## Train Test Split"
   ]
  },
  {
   "cell_type": "code",
   "execution_count": 6,
   "metadata": {},
   "outputs": [],
   "source": [
    "X = df.copy()\n",
    "y = X.pop(cfg.target)\n",
    "\n",
    "X_train, X_test, y_train, y_test = train_test_split(X, y, test_size=1/3, random_state=42)\n",
    "X_val, X_test, y_val, y_test = train_test_split(X_test, y_test, test_size=1/3, random_state=42)"
   ]
  },
  {
   "cell_type": "code",
   "execution_count": 7,
   "metadata": {},
   "outputs": [
    {
     "data": {
      "text/html": [
       "<div>\n",
       "<style scoped>\n",
       "    .dataframe tbody tr th:only-of-type {\n",
       "        vertical-align: middle;\n",
       "    }\n",
       "\n",
       "    .dataframe tbody tr th {\n",
       "        vertical-align: top;\n",
       "    }\n",
       "\n",
       "    .dataframe thead th {\n",
       "        text-align: right;\n",
       "    }\n",
       "</style>\n",
       "<table border=\"1\" class=\"dataframe\">\n",
       "  <thead>\n",
       "    <tr style=\"text-align: right;\">\n",
       "      <th></th>\n",
       "      <th>lat</th>\n",
       "      <th>long</th>\n",
       "      <th>download_kbit</th>\n",
       "      <th>upload_kbit</th>\n",
       "      <th>ping_ms</th>\n",
       "      <th>lte_rsrp</th>\n",
       "      <th>signal_strength</th>\n",
       "      <th>hour</th>\n",
       "      <th>platform</th>\n",
       "      <th>network_name</th>\n",
       "      <th>hour_cat</th>\n",
       "    </tr>\n",
       "  </thead>\n",
       "  <tbody>\n",
       "    <tr>\n",
       "      <th>7579</th>\n",
       "      <td>48.028022</td>\n",
       "      <td>16.072431</td>\n",
       "      <td>95250.0</td>\n",
       "      <td>19009.0</td>\n",
       "      <td>15.0</td>\n",
       "      <td>-106.0</td>\n",
       "      <td>NaN</td>\n",
       "      <td>0.0</td>\n",
       "      <td>Android</td>\n",
       "      <td>HoT</td>\n",
       "      <td>NaN</td>\n",
       "    </tr>\n",
       "    <tr>\n",
       "      <th>27214</th>\n",
       "      <td>48.169400</td>\n",
       "      <td>16.414527</td>\n",
       "      <td>49878.0</td>\n",
       "      <td>36568.0</td>\n",
       "      <td>23.0</td>\n",
       "      <td>-82.0</td>\n",
       "      <td>NaN</td>\n",
       "      <td>22.0</td>\n",
       "      <td>Android</td>\n",
       "      <td>Lidl</td>\n",
       "      <td>(18, 24]</td>\n",
       "    </tr>\n",
       "    <tr>\n",
       "      <th>4148</th>\n",
       "      <td>47.824551</td>\n",
       "      <td>16.534104</td>\n",
       "      <td>7518.0</td>\n",
       "      <td>1095.0</td>\n",
       "      <td>28.2</td>\n",
       "      <td>-114.0</td>\n",
       "      <td>NaN</td>\n",
       "      <td>6.0</td>\n",
       "      <td>Android</td>\n",
       "      <td>k+</td>\n",
       "      <td>(0, 6]</td>\n",
       "    </tr>\n",
       "    <tr>\n",
       "      <th>6594</th>\n",
       "      <td>47.379795</td>\n",
       "      <td>13.419617</td>\n",
       "      <td>9802.0</td>\n",
       "      <td>7541.0</td>\n",
       "      <td>41.0</td>\n",
       "      <td>-103.0</td>\n",
       "      <td>NaN</td>\n",
       "      <td>9.0</td>\n",
       "      <td>Android</td>\n",
       "      <td>T-Mobile A</td>\n",
       "      <td>(6, 12]</td>\n",
       "    </tr>\n",
       "    <tr>\n",
       "      <th>33984</th>\n",
       "      <td>48.194923</td>\n",
       "      <td>13.548408</td>\n",
       "      <td>116629.0</td>\n",
       "      <td>48914.0</td>\n",
       "      <td>20.9</td>\n",
       "      <td>-82.0</td>\n",
       "      <td>NaN</td>\n",
       "      <td>11.0</td>\n",
       "      <td>Android</td>\n",
       "      <td>Magenta-T-</td>\n",
       "      <td>(6, 12]</td>\n",
       "    </tr>\n",
       "    <tr>\n",
       "      <th>...</th>\n",
       "      <td>...</td>\n",
       "      <td>...</td>\n",
       "      <td>...</td>\n",
       "      <td>...</td>\n",
       "      <td>...</td>\n",
       "      <td>...</td>\n",
       "      <td>...</td>\n",
       "      <td>...</td>\n",
       "      <td>...</td>\n",
       "      <td>...</td>\n",
       "      <td>...</td>\n",
       "    </tr>\n",
       "    <tr>\n",
       "      <th>2304</th>\n",
       "      <td>51.010788</td>\n",
       "      <td>11.002388</td>\n",
       "      <td>9983.0</td>\n",
       "      <td>14139.0</td>\n",
       "      <td>40.0</td>\n",
       "      <td>NaN</td>\n",
       "      <td>NaN</td>\n",
       "      <td>9.0</td>\n",
       "      <td>iOS</td>\n",
       "      <td>NaN</td>\n",
       "      <td>(6, 12]</td>\n",
       "    </tr>\n",
       "    <tr>\n",
       "      <th>29719</th>\n",
       "      <td>47.549687</td>\n",
       "      <td>16.010224</td>\n",
       "      <td>2781.0</td>\n",
       "      <td>2203.0</td>\n",
       "      <td>59.9</td>\n",
       "      <td>NaN</td>\n",
       "      <td>NaN</td>\n",
       "      <td>14.0</td>\n",
       "      <td>iOS</td>\n",
       "      <td>NaN</td>\n",
       "      <td>(12, 18]</td>\n",
       "    </tr>\n",
       "    <tr>\n",
       "      <th>2942</th>\n",
       "      <td>49.902566</td>\n",
       "      <td>10.067081</td>\n",
       "      <td>63750.0</td>\n",
       "      <td>47105.0</td>\n",
       "      <td>49.5</td>\n",
       "      <td>-87.0</td>\n",
       "      <td>NaN</td>\n",
       "      <td>18.0</td>\n",
       "      <td>Android</td>\n",
       "      <td>mobilcom-debitel</td>\n",
       "      <td>(12, 18]</td>\n",
       "    </tr>\n",
       "    <tr>\n",
       "      <th>14786</th>\n",
       "      <td>48.194368</td>\n",
       "      <td>16.360029</td>\n",
       "      <td>38296.0</td>\n",
       "      <td>8083.0</td>\n",
       "      <td>25.7</td>\n",
       "      <td>-85.0</td>\n",
       "      <td>NaN</td>\n",
       "      <td>21.0</td>\n",
       "      <td>Android</td>\n",
       "      <td>educom</td>\n",
       "      <td>(18, 24]</td>\n",
       "    </tr>\n",
       "    <tr>\n",
       "      <th>1247</th>\n",
       "      <td>14.568017</td>\n",
       "      <td>102.600080</td>\n",
       "      <td>2521.0</td>\n",
       "      <td>9488.0</td>\n",
       "      <td>239.9</td>\n",
       "      <td>-110.0</td>\n",
       "      <td>NaN</td>\n",
       "      <td>9.0</td>\n",
       "      <td>Android</td>\n",
       "      <td>NaN</td>\n",
       "      <td>(6, 12]</td>\n",
       "    </tr>\n",
       "  </tbody>\n",
       "</table>\n",
       "<p>4265 rows × 11 columns</p>\n",
       "</div>"
      ],
      "text/plain": [
       "             lat        long  download_kbit  upload_kbit  ping_ms  lte_rsrp  \\\n",
       "7579   48.028022   16.072431        95250.0      19009.0     15.0    -106.0   \n",
       "27214  48.169400   16.414527        49878.0      36568.0     23.0     -82.0   \n",
       "4148   47.824551   16.534104         7518.0       1095.0     28.2    -114.0   \n",
       "6594   47.379795   13.419617         9802.0       7541.0     41.0    -103.0   \n",
       "33984  48.194923   13.548408       116629.0      48914.0     20.9     -82.0   \n",
       "...          ...         ...            ...          ...      ...       ...   \n",
       "2304   51.010788   11.002388         9983.0      14139.0     40.0       NaN   \n",
       "29719  47.549687   16.010224         2781.0       2203.0     59.9       NaN   \n",
       "2942   49.902566   10.067081        63750.0      47105.0     49.5     -87.0   \n",
       "14786  48.194368   16.360029        38296.0       8083.0     25.7     -85.0   \n",
       "1247   14.568017  102.600080         2521.0       9488.0    239.9    -110.0   \n",
       "\n",
       "       signal_strength  hour platform      network_name  hour_cat  \n",
       "7579               NaN   0.0  Android               HoT       NaN  \n",
       "27214              NaN  22.0  Android              Lidl  (18, 24]  \n",
       "4148               NaN   6.0  Android                k+    (0, 6]  \n",
       "6594               NaN   9.0  Android        T-Mobile A   (6, 12]  \n",
       "33984              NaN  11.0  Android        Magenta-T-   (6, 12]  \n",
       "...                ...   ...      ...               ...       ...  \n",
       "2304               NaN   9.0      iOS               NaN   (6, 12]  \n",
       "29719              NaN  14.0      iOS               NaN  (12, 18]  \n",
       "2942               NaN  18.0  Android  mobilcom-debitel  (12, 18]  \n",
       "14786              NaN  21.0  Android            educom  (18, 24]  \n",
       "1247               NaN   9.0  Android               NaN   (6, 12]  \n",
       "\n",
       "[4265 rows x 11 columns]"
      ]
     },
     "execution_count": 7,
     "metadata": {},
     "output_type": "execute_result"
    }
   ],
   "source": [
    "X_test"
   ]
  },
  {
   "cell_type": "markdown",
   "metadata": {},
   "source": [
    "## Baseline Model"
   ]
  },
  {
   "cell_type": "code",
   "execution_count": 36,
   "metadata": {},
   "outputs": [],
   "source": [
    "upper_limits = {\n",
    "    '3G': 2e4,\n",
    "    '4G': 1.5e5,\n",
    "}"
   ]
  },
  {
   "cell_type": "code",
   "execution_count": 37,
   "metadata": {},
   "outputs": [
    {
     "data": {
      "image/png": "[encoded data removed]",
      "text/plain": [
       "<Figure size 432x288 with 1 Axes>"
      ]
     },
     "metadata": {
      "needs_background": "light"
     },
     "output_type": "display_data"
    }
   ],
   "source": [
    "plot_comparison_histogram(\n",
    "    X_test.download_kbit,\n",
    "    y_test,\n",
    "    bins=np.arange(0,4e5,1e4),\n",
    "    vlines=upper_limits.values(),\n",
    "    title='Cut-off values for baseline model'\n",
    ")\n"
   ]
  },
  {
   "cell_type": "code",
   "execution_count": 38,
   "metadata": {},
   "outputs": [
    {
     "name": "stdout",
     "output_type": "stream",
     "text": [
      "{'3G': 20000.0, '4G': 150000.0}\n"
     ]
    }
   ],
   "source": [
    "class Baseline:\n",
    "    def __init__(self, **upper_limits):\n",
    "        self.upper_limits = upper_limits\n",
    "        print(upper_limits)\n",
    "\n",
    "    def _transform_func(self, x):\n",
    "        pass\n",
    "\n",
    "    def transform(self, feature):\n",
    "        pass\n",
    "        \n",
    "        \n",
    "            \n",
    "x = Baseline(**upper_limits)"
   ]
  }
 ],
 "metadata": {
  "interpreter": {
   "hash": "859b5ecb5e0ef6a144eadf5ebe8efd06446adffb4d8ba928f1d973c84dda10a1"
  },
  "kernelspec": {
   "display_name": "Python 3.9.0 ('rtr-netztest')",
   "language": "python",
   "name": "python3"
  },
  "language_info": {
   "codemirror_mode": {
    "name": "ipython",
    "version": 3
   },
   "file_extension": ".py",
   "mimetype": "text/x-python",
   "name": "python",
   "nbconvert_exporter": "python",
   "pygments_lexer": "ipython3",
   "version": "3.9.0"
  },
  "orig_nbformat": 4
 },
 "nbformat": 4,
 "nbformat_minor": 2
}
