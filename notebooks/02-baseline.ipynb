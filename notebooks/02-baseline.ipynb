{
 "cells": [
  {
   "cell_type": "code",
   "execution_count": 1,
   "metadata": {},
   "outputs": [],
   "source": [
    "%load_ext autoreload\n",
    "%autoreload 2"
   ]
  },
  {
   "cell_type": "code",
   "execution_count": 2,
   "metadata": {},
   "outputs": [],
   "source": [
    "import lightgbm as lgb\n",
    "import pandas as pd\n",
    "import numpy as np\n",
    "import pathlib\n",
    "\n",
    "from omegaconf import OmegaConf\n",
    "from sklearn.model_selection import train_test_split, GridSearchCV\n",
    "from sklearn.compose import ColumnTransformer\n",
    "from sklearn.pipeline import Pipeline, make_pipeline\n",
    "from sklearn.preprocessing import StandardScaler, OneHotEncoder\n",
    "from sklearn.impute import SimpleImputer\n",
    "\n",
    "from src.utils.visualization import plot_comparison_histogram\n",
    "from src.utils.evaluation import evaluate\n",
    "from src.utils.transform import (HourExtractor, WeekendExtractor, \n",
    "    FeatureCrosser, FringeCategoryBucketer)\n",
    "from src.models.baseline import BaselineClassifier"
   ]
  },
  {
   "cell_type": "code",
   "execution_count": 3,
   "metadata": {},
   "outputs": [],
   "source": [
    "cfg = OmegaConf.load('../config.yaml')"
   ]
  },
  {
   "cell_type": "code",
   "execution_count": 4,
   "metadata": {},
   "outputs": [],
   "source": [
    "processed_data_dir = '..' / pathlib.Path(cfg.paths.data.processed)\n",
    "processed_file = processed_data_dir / cfg.files.processed_dataset\n",
    "\n",
    "df = pd.read_csv(processed_file)"
   ]
  },
  {
   "cell_type": "code",
   "execution_count": 5,
   "metadata": {},
   "outputs": [
    {
     "name": "stdout",
     "output_type": "stream",
     "text": [
      "<class 'pandas.core.frame.DataFrame'>\n",
      "RangeIndex: 38182 entries, 0 to 38181\n",
      "Data columns (total 9 columns):\n",
      " #   Column          Non-Null Count  Dtype  \n",
      "---  ------          --------------  -----  \n",
      " 0   lat             33983 non-null  float64\n",
      " 1   long            33983 non-null  float64\n",
      " 2   download_mbit   38182 non-null  float64\n",
      " 3   upload_mbit     38182 non-null  float64\n",
      " 4   ping_ms         38180 non-null  float64\n",
      " 5   platform        38182 non-null  object \n",
      " 6   network_name    24556 non-null  object \n",
      " 7   time_utc        38182 non-null  object \n",
      " 8   cat_technology  38182 non-null  object \n",
      "dtypes: float64(5), object(4)\n",
      "memory usage: 2.6+ MB\n"
     ]
    }
   ],
   "source": [
    "df.info()"
   ]
  },
  {
   "cell_type": "markdown",
   "metadata": {},
   "source": [
    "## Train Test Split"
   ]
  },
  {
   "cell_type": "code",
   "execution_count": 6,
   "metadata": {},
   "outputs": [],
   "source": [
    "X = df.copy()\n",
    "y = X.pop(cfg.target)\n",
    "\n",
    "X_train, X_test, y_train, y_test = train_test_split(X, y, test_size=1/3, random_state=42)\n",
    "#X_val, X_test, y_val, y_test = train_test_split(X_test, y_test, test_size=1/3, random_state=42)"
   ]
  },
  {
   "cell_type": "markdown",
   "metadata": {},
   "source": [
    "## Baseline Model"
   ]
  },
  {
   "cell_type": "code",
   "execution_count": 7,
   "metadata": {},
   "outputs": [],
   "source": [
    "# We define upper limits for download speed\n",
    "# as thresholds for the baseline model.\n",
    "# E.g., if download-speed is less than\n",
    "# 20 mbit/s, we assume its 3G,\n",
    "# if it is between 20 and 150 mbit/s\n",
    "# we say 4G, and beyond that we will return 5G\n",
    "upper_limits = {\n",
    "    '3G': 20,\n",
    "    '4G': 150,\n",
    "}"
   ]
  },
  {
   "cell_type": "code",
   "execution_count": 8,
   "metadata": {},
   "outputs": [
    {
     "data": {
      "image/png": "[encoded data removed]",
      "text/plain": [
       "<Figure size 432x288 with 1 Axes>"
      ]
     },
     "metadata": {
      "needs_background": "light"
     },
     "output_type": "display_data"
    }
   ],
   "source": [
    "plot_comparison_histogram(\n",
    "    X_train.download_mbit,\n",
    "    y_train,\n",
    "    bins=np.arange(0,400,5),\n",
    "    vlines=upper_limits.values(),\n",
    "    title='Cut-off values for baseline model'\n",
    ")"
   ]
  },
  {
   "cell_type": "code",
   "execution_count": 9,
   "metadata": {},
   "outputs": [],
   "source": [
    "baseline = BaselineClassifier(col_index=2,\n",
    "                              upper_limits=upper_limits)\n",
    "\n",
    "baseline.fit(X_train, y_train)\n",
    "\n",
    "y_test_baseline = baseline.predict(X_test)"
   ]
  },
  {
   "cell_type": "code",
   "execution_count": 11,
   "metadata": {},
   "outputs": [
    {
     "data": {
      "image/png": "[encoded data removed]",
      "text/plain": [
       "<Figure size 432x288 with 2 Axes>"
      ]
     },
     "metadata": {
      "needs_background": "light"
     },
     "output_type": "display_data"
    },
    {
     "name": "stdout",
     "output_type": "stream",
     "text": [
      "              precision    recall  f1-score   support\n",
      "\n",
      "          3G       0.12      0.91      0.22       527\n",
      "          4G       0.88      0.59      0.71      9679\n",
      "          5G       0.69      0.63      0.66      2522\n",
      "\n",
      "    accuracy                           0.61     12728\n",
      "   macro avg       0.56      0.71      0.53     12728\n",
      "weighted avg       0.81      0.61      0.68     12728\n",
      "\n",
      "AVG PRECISION: 0.563 (macro)\n",
      "AVG RECALL: 0.711 (macro)\n",
      "AVG F1: 0.528 (macro)\n"
     ]
    }
   ],
   "source": [
    "evaluate(y_test, y_test_baseline, title='Baseline Model', average='macro')"
   ]
  }
 ],
 "metadata": {
  "interpreter": {
   "hash": "6242a39b9af1ed8ec400408cd096191c980245920e43fbe21f27396777802836"
  },
  "kernelspec": {
   "display_name": "Python 3.8.12 ('speedtest-classification')",
   "language": "python",
   "name": "python3"
  },
  "language_info": {
   "codemirror_mode": {
    "name": "ipython",
    "version": 3
   },
   "file_extension": ".py",
   "mimetype": "text/x-python",
   "name": "python",
   "nbconvert_exporter": "python",
   "pygments_lexer": "ipython3",
   "version": "3.8.12"
  },
  "orig_nbformat": 4
 },
 "nbformat": 4,
 "nbformat_minor": 2
}
