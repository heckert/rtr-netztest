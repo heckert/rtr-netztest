{
 "cells": [
  {
   "cell_type": "code",
   "execution_count": 25,
   "metadata": {},
   "outputs": [
    {
     "name": "stdout",
     "output_type": "stream",
     "text": [
      "The autoreload extension is already loaded. To reload it, use:\n",
      "  %reload_ext autoreload\n"
     ]
    }
   ],
   "source": [
    "%load_ext autoreload\n",
    "%autoreload 2"
   ]
  },
  {
   "cell_type": "code",
   "execution_count": 26,
   "metadata": {},
   "outputs": [],
   "source": [
    "import numpy as np\n",
    "import pandas as pd\n",
    "import matplotlib.pyplot as plt\n",
    "import pandas_profiling\n",
    "import pathlib\n",
    "\n",
    "from omegaconf import OmegaConf\n",
    "\n",
    "from src.utils.visualization import plot_comparison_histogram"
   ]
  },
  {
   "cell_type": "code",
   "execution_count": 27,
   "metadata": {},
   "outputs": [],
   "source": [
    "pd.set_option('display.max_columns', 50)\n",
    "pd.set_option('display.max_rows', 500)"
   ]
  },
  {
   "cell_type": "code",
   "execution_count": 44,
   "metadata": {},
   "outputs": [],
   "source": [
    "# Parse configs\n",
    "cfg = OmegaConf.load('../config.yaml')\n",
    "\n",
    "# Prepare paths\n",
    "raw_data_dir = '..' / pathlib.Path(cfg.paths.data.raw)\n",
    "raw_file = raw_data_dir / cfg.files.raw_dataset"
   ]
  },
  {
   "cell_type": "markdown",
   "metadata": {},
   "source": [
    "## Explore the dataset"
   ]
  },
  {
   "cell_type": "code",
   "execution_count": 50,
   "metadata": {},
   "outputs": [],
   "source": [
    "df = pd.read_csv(\n",
    "    raw_file, \n",
    "    dtype={\n",
    "        'gkz': 'str',\n",
    "        'implausible': 'str',\n",
    "        'pinned': 'str',\n",
    "        }\n",
    "    )"
   ]
  },
  {
   "cell_type": "code",
   "execution_count": 46,
   "metadata": {},
   "outputs": [
    {
     "data": {
      "text/html": [
       "<div>\n",
       "<style scoped>\n",
       "    .dataframe tbody tr th:only-of-type {\n",
       "        vertical-align: middle;\n",
       "    }\n",
       "\n",
       "    .dataframe tbody tr th {\n",
       "        vertical-align: top;\n",
       "    }\n",
       "\n",
       "    .dataframe thead th {\n",
       "        text-align: right;\n",
       "    }\n",
       "</style>\n",
       "<table border=\"1\" class=\"dataframe\">\n",
       "  <thead>\n",
       "    <tr style=\"text-align: right;\">\n",
       "      <th></th>\n",
       "      <th>gkz</th>\n",
       "      <th>implausible</th>\n",
       "      <th>pinned</th>\n",
       "    </tr>\n",
       "  </thead>\n",
       "  <tbody>\n",
       "    <tr>\n",
       "      <th>0</th>\n",
       "      <td>NaN</td>\n",
       "      <td>False</td>\n",
       "      <td>True</td>\n",
       "    </tr>\n",
       "    <tr>\n",
       "      <th>1</th>\n",
       "      <td>NaN</td>\n",
       "      <td>False</td>\n",
       "      <td>True</td>\n",
       "    </tr>\n",
       "    <tr>\n",
       "      <th>2</th>\n",
       "      <td>90001.0</td>\n",
       "      <td>False</td>\n",
       "      <td>True</td>\n",
       "    </tr>\n",
       "    <tr>\n",
       "      <th>3</th>\n",
       "      <td>NaN</td>\n",
       "      <td>False</td>\n",
       "      <td>True</td>\n",
       "    </tr>\n",
       "    <tr>\n",
       "      <th>4</th>\n",
       "      <td>NaN</td>\n",
       "      <td>False</td>\n",
       "      <td>True</td>\n",
       "    </tr>\n",
       "    <tr>\n",
       "      <th>...</th>\n",
       "      <td>...</td>\n",
       "      <td>...</td>\n",
       "      <td>...</td>\n",
       "    </tr>\n",
       "    <tr>\n",
       "      <th>502771</th>\n",
       "      <td>NaN</td>\n",
       "      <td>False</td>\n",
       "      <td>False</td>\n",
       "    </tr>\n",
       "    <tr>\n",
       "      <th>502772</th>\n",
       "      <td>NaN</td>\n",
       "      <td>False</td>\n",
       "      <td>True</td>\n",
       "    </tr>\n",
       "    <tr>\n",
       "      <th>502773</th>\n",
       "      <td>90001.0</td>\n",
       "      <td>False</td>\n",
       "      <td>True</td>\n",
       "    </tr>\n",
       "    <tr>\n",
       "      <th>502774</th>\n",
       "      <td>NaN</td>\n",
       "      <td>False</td>\n",
       "      <td>True</td>\n",
       "    </tr>\n",
       "    <tr>\n",
       "      <th>502775</th>\n",
       "      <td>NaN</td>\n",
       "      <td>False</td>\n",
       "      <td>False</td>\n",
       "    </tr>\n",
       "  </tbody>\n",
       "</table>\n",
       "<p>502776 rows × 3 columns</p>\n",
       "</div>"
      ],
      "text/plain": [
       "            gkz implausible pinned\n",
       "0           NaN       False   True\n",
       "1           NaN       False   True\n",
       "2       90001.0       False   True\n",
       "3           NaN       False   True\n",
       "4           NaN       False   True\n",
       "...         ...         ...    ...\n",
       "502771      NaN       False  False\n",
       "502772      NaN       False   True\n",
       "502773  90001.0       False   True\n",
       "502774      NaN       False   True\n",
       "502775      NaN       False  False\n",
       "\n",
       "[502776 rows x 3 columns]"
      ]
     },
     "execution_count": 46,
     "metadata": {},
     "output_type": "execute_result"
    }
   ],
   "source": [
    "df.iloc[:, [9, 31, 33]]"
   ]
  },
  {
   "cell_type": "code",
   "execution_count": 6,
   "metadata": {},
   "outputs": [],
   "source": [
    "#pandas_profiling.ProfileReport(\n",
    "#    df, minimal=True\n",
    "#)"
   ]
  },
  {
   "cell_type": "code",
   "execution_count": 7,
   "metadata": {},
   "outputs": [
    {
     "name": "stdout",
     "output_type": "stream",
     "text": [
      "open_uuid object\n",
      "open_test_uuid object\n",
      "time_utc object\n",
      "cat_technology object\n",
      "network_type object\n",
      "lat float64\n",
      "long float64\n",
      "loc_src object\n",
      "loc_accuracy float64\n",
      "gkz float64\n",
      "zip_code float64\n",
      "country_location object\n",
      "download_kbit float64\n",
      "upload_kbit float64\n",
      "ping_ms float64\n",
      "lte_rsrp float64\n",
      "lte_rsrq float64\n",
      "server_name object\n",
      "test_duration int64\n",
      "num_threads float64\n",
      "platform object\n",
      "model object\n",
      "client_version object\n",
      "network_mcc_mnc object\n",
      "network_name object\n",
      "sim_mcc_mnc object\n",
      "nat_type object\n",
      "asn float64\n",
      "ip_anonym object\n",
      "ndt_download_kbit float64\n",
      "ndt_upload_kbit float64\n",
      "implausible bool\n",
      "signal_strength float64\n",
      "pinned bool\n",
      "kg_nr float64\n",
      "gkz_sa float64\n",
      "land_cover float64\n",
      "cell_area_code float64\n",
      "cell_location_id float64\n",
      "channel_number float64\n",
      "radio_band float64\n",
      "settlement_type float64\n",
      "link_id float64\n",
      "link_name object\n",
      "link_distance float64\n",
      "edge_id float64\n",
      "link_frc float64\n",
      "dtm_level float64\n",
      "signal_classification float64\n"
     ]
    }
   ],
   "source": [
    "for col in df.columns:\n",
    "    print(col, df[col].dtype)"
   ]
  },
  {
   "cell_type": "code",
   "execution_count": 51,
   "metadata": {},
   "outputs": [
    {
     "data": {
      "image/png": "[encoded data removed]",
      "text/plain": [
       "<Figure size 432x288 with 1 Axes>"
      ]
     },
     "metadata": {
      "needs_background": "light"
     },
     "output_type": "display_data"
    }
   ],
   "source": [
    "allowed_values = ['3G', '4G', '5G']\n",
    "filter_ = df.cat_technology.isin(allowed_values)\n",
    "\n",
    "plot_comparison_histogram(\n",
    "    df[filter_].download_kbit/1e3,\n",
    "    df[filter_].cat_technology,\n",
    "    bins=np.arange(0, 600, 10),\n",
    "    title='Download speed by technology'\n",
    ")"
   ]
  },
  {
   "cell_type": "code",
   "execution_count": 31,
   "metadata": {},
   "outputs": [
    {
     "data": {
      "image/png": "[encoded data removed]",
      "text/plain": [
       "<Figure size 432x288 with 1 Axes>"
      ]
     },
     "metadata": {
      "needs_background": "light"
     },
     "output_type": "display_data"
    }
   ],
   "source": [
    "tmp_filter = filter_ & df.network_name.isin(['A1', '3 AT', 'Magenta-T-'])\n",
    "\n",
    "plot_comparison_histogram(\n",
    "    df[tmp_filter].download_kbit/1e3,\n",
    "    df[tmp_filter].network_name,\n",
    "    bins=np.arange(0, 600, 10),\n",
    "    title='Download speed by provider'\n",
    ")"
   ]
  },
  {
   "cell_type": "code",
   "execution_count": 32,
   "metadata": {},
   "outputs": [
    {
     "data": {
      "image/png": "[encoded data removed]",
      "text/plain": [
       "<Figure size 432x288 with 1 Axes>"
      ]
     },
     "metadata": {
      "needs_background": "light"
     },
     "output_type": "display_data"
    }
   ],
   "source": [
    "plot_comparison_histogram(\n",
    "    df[filter_].download_kbit/1e3,\n",
    "    df[filter_].platform,\n",
    "    bins=np.arange(0, 300, 10),\n",
    "    title='Ping[ms]'\n",
    ")"
   ]
  },
  {
   "cell_type": "code",
   "execution_count": 33,
   "metadata": {},
   "outputs": [
    {
     "data": {
      "image/png": "[encoded data removed]",
      "text/plain": [
       "<Figure size 432x288 with 1 Axes>"
      ]
     },
     "metadata": {
      "needs_background": "light"
     },
     "output_type": "display_data"
    }
   ],
   "source": [
    "plot_comparison_histogram(\n",
    "    df[filter_].ping_ms,\n",
    "    df[filter_].cat_technology,\n",
    "    bins=np.arange(0, 300, 10),\n",
    "    title='Ping[ms]'\n",
    ")"
   ]
  },
  {
   "cell_type": "code",
   "execution_count": 34,
   "metadata": {},
   "outputs": [
    {
     "data": {
      "image/png": "[encoded data removed]",
      "text/plain": [
       "<Figure size 432x288 with 1 Axes>"
      ]
     },
     "metadata": {
      "needs_background": "light"
     },
     "output_type": "display_data"
    }
   ],
   "source": [
    "plot_comparison_histogram(\n",
    "    df[filter_].lte_rsrp,\n",
    "    df[filter_].cat_technology,\n",
    "    title='LTE signal strength in dBm',\n",
    "    bins=np.arange(-140, -60, 2)\n",
    ")"
   ]
  },
  {
   "cell_type": "code",
   "execution_count": 35,
   "metadata": {},
   "outputs": [
    {
     "data": {
      "image/png": "[encoded data removed]",
      "text/plain": [
       "<Figure size 432x288 with 1 Axes>"
      ]
     },
     "metadata": {
      "needs_background": "light"
     },
     "output_type": "display_data"
    }
   ],
   "source": [
    "plot_comparison_histogram(\n",
    "    df[filter_].signal_strength,\n",
    "    df[filter_].cat_technology,\n",
    "    title='Signal strength (RSSI) in dBm',\n",
    "    bins=np.arange(-140, -20, 2)\n",
    ")"
   ]
  },
  {
   "cell_type": "code",
   "execution_count": 39,
   "metadata": {},
   "outputs": [
    {
     "data": {
      "text/plain": [
       "<AxesSubplot:title={'center':'Time of day'}>"
      ]
     },
     "execution_count": 39,
     "metadata": {},
     "output_type": "execute_result"
    },
    {
     "data": {
      "image/png": "[encoded data removed]",
      "text/plain": [
       "<Figure size 432x288 with 1 Axes>"
      ]
     },
     "metadata": {
      "needs_background": "light"
     },
     "output_type": "display_data"
    }
   ],
   "source": [
    "df.time_utc = pd.to_datetime(df.time_utc, errors='coerce')\n",
    "df['time_hour'] = df.time_utc.dt.hour\n",
    "\n",
    "df.time_hour.value_counts() \\\n",
    "    .sort_index() \\\n",
    "        .plot(kind='bar', title='Time of day')"
   ]
  },
  {
   "cell_type": "code",
   "execution_count": 37,
   "metadata": {},
   "outputs": [
    {
     "data": {
      "text/plain": [
       "Index(['open_uuid', 'open_test_uuid', 'time_utc', 'cat_technology',\n",
       "       'network_type', 'lat', 'long', 'loc_src', 'loc_accuracy', 'gkz',\n",
       "       'zip_code', 'country_location', 'download_kbit', 'upload_kbit',\n",
       "       'ping_ms', 'lte_rsrp', 'lte_rsrq', 'server_name', 'test_duration',\n",
       "       'num_threads', 'platform', 'model', 'client_version', 'network_mcc_mnc',\n",
       "       'network_name', 'sim_mcc_mnc', 'nat_type', 'asn', 'ip_anonym',\n",
       "       'ndt_download_kbit', 'ndt_upload_kbit', 'implausible',\n",
       "       'signal_strength', 'pinned', 'kg_nr', 'gkz_sa', 'land_cover',\n",
       "       'cell_area_code', 'cell_location_id', 'channel_number', 'radio_band',\n",
       "       'settlement_type', 'link_id', 'link_name', 'link_distance', 'edge_id',\n",
       "       'link_frc', 'dtm_level', 'signal_classification'],\n",
       "      dtype='object')"
      ]
     },
     "execution_count": 37,
     "metadata": {},
     "output_type": "execute_result"
    }
   ],
   "source": [
    "df.columns"
   ]
  },
  {
   "cell_type": "code",
   "execution_count": 38,
   "metadata": {},
   "outputs": [
    {
     "data": {
      "text/plain": [
       "0         2022-01-20 00:00:03\n",
       "1         2022-01-20 00:00:19\n",
       "2         2022-01-20 00:00:56\n",
       "3         2022-01-20 00:00:56\n",
       "4         2022-01-20 00:01:20\n",
       "                 ...         \n",
       "502771    2022-02-20 14:55:19\n",
       "502772    2022-02-20 14:55:22\n",
       "502773    2022-02-20 14:55:26\n",
       "502774    2022-02-20 14:55:33\n",
       "502775    2022-02-20 14:55:40\n",
       "Name: time_utc, Length: 502776, dtype: object"
      ]
     },
     "execution_count": 38,
     "metadata": {},
     "output_type": "execute_result"
    }
   ],
   "source": [
    "df.time_utc"
   ]
  },
  {
   "cell_type": "code",
   "execution_count": 15,
   "metadata": {},
   "outputs": [],
   "source": [
    "df['daytime_category'] = pd.cut(df.time_hour,range(0,25, 6))"
   ]
  },
  {
   "cell_type": "code",
   "execution_count": 16,
   "metadata": {},
   "outputs": [
    {
     "data": {
      "image/png": "[encoded data removed]",
      "text/plain": [
       "<Figure size 432x288 with 1 Axes>"
      ]
     },
     "metadata": {
      "needs_background": "light"
     },
     "output_type": "display_data"
    }
   ],
   "source": [
    "plot_comparison_histogram(\n",
    "    df[filter_].download_kbit/1e3,\n",
    "    df[filter_].daytime_category,\n",
    "    bins=np.arange(0, 600, 10),\n",
    "    title='Download-speed[mbit] by time of day'\n",
    ")"
   ]
  },
  {
   "cell_type": "code",
   "execution_count": 17,
   "metadata": {},
   "outputs": [
    {
     "data": {
      "text/plain": [
       "<AxesSubplot:xlabel='daytime_category'>"
      ]
     },
     "execution_count": 17,
     "metadata": {},
     "output_type": "execute_result"
    },
    {
     "data": {
      "image/png": "[encoded data removed]",
      "text/plain": [
       "<Figure size 432x288 with 1 Axes>"
      ]
     },
     "metadata": {
      "needs_background": "light"
     },
     "output_type": "display_data"
    }
   ],
   "source": [
    "df[filter_] \\\n",
    "    .groupby(['cat_technology', 'daytime_category']) \\\n",
    "        ['download_kbit'].mean().unstack().transpose() \\\n",
    "            .plot(kind='bar')"
   ]
  },
  {
   "cell_type": "code",
   "execution_count": 18,
   "metadata": {},
   "outputs": [
    {
     "data": {
      "text/plain": [
       "Android    133970\n",
       "iOS         53842\n",
       "Name: platform, dtype: int64"
      ]
     },
     "execution_count": 18,
     "metadata": {},
     "output_type": "execute_result"
    }
   ],
   "source": [
    "df.platform.value_counts()"
   ]
  },
  {
   "cell_type": "code",
   "execution_count": 19,
   "metadata": {},
   "outputs": [
    {
     "data": {
      "text/plain": [
       "(12, 18]    12341\n",
       "(6, 12]     12236\n",
       "(18, 24]     5510\n",
       "(0, 6]       2699\n",
       "Name: daytime_category, dtype: int64"
      ]
     },
     "execution_count": 19,
     "metadata": {},
     "output_type": "execute_result"
    }
   ],
   "source": [
    "df[filter_].daytime_category.value_counts()"
   ]
  },
  {
   "cell_type": "code",
   "execution_count": 58,
   "metadata": {},
   "outputs": [],
   "source": [
    "import pandas as pd\n",
    "\n",
    "df = pd.read_csv('../data/processed/netztest-opendata-processed.csv')"
   ]
  },
  {
   "cell_type": "code",
   "execution_count": 59,
   "metadata": {},
   "outputs": [
    {
     "data": {
      "text/html": [
       "<div>\n",
       "<style scoped>\n",
       "    .dataframe tbody tr th:only-of-type {\n",
       "        vertical-align: middle;\n",
       "    }\n",
       "\n",
       "    .dataframe tbody tr th {\n",
       "        vertical-align: top;\n",
       "    }\n",
       "\n",
       "    .dataframe thead th {\n",
       "        text-align: right;\n",
       "    }\n",
       "</style>\n",
       "<table border=\"1\" class=\"dataframe\">\n",
       "  <thead>\n",
       "    <tr style=\"text-align: right;\">\n",
       "      <th></th>\n",
       "      <th>lat</th>\n",
       "      <th>long</th>\n",
       "      <th>download_kbit</th>\n",
       "      <th>upload_kbit</th>\n",
       "      <th>ping_ms</th>\n",
       "      <th>lte_rsrp</th>\n",
       "      <th>signal_strength</th>\n",
       "      <th>hour</th>\n",
       "      <th>platform</th>\n",
       "      <th>network_name</th>\n",
       "      <th>hour_cat</th>\n",
       "      <th>cat_technology</th>\n",
       "    </tr>\n",
       "  </thead>\n",
       "  <tbody>\n",
       "    <tr>\n",
       "      <th>0</th>\n",
       "      <td>51.011007</td>\n",
       "      <td>13.816167</td>\n",
       "      <td>149734.0</td>\n",
       "      <td>10482.0</td>\n",
       "      <td>39.1</td>\n",
       "      <td>NaN</td>\n",
       "      <td>NaN</td>\n",
       "      <td>0.0</td>\n",
       "      <td>iOS</td>\n",
       "      <td>NaN</td>\n",
       "      <td>NaN</td>\n",
       "      <td>4G</td>\n",
       "    </tr>\n",
       "    <tr>\n",
       "      <th>1</th>\n",
       "      <td>47.416610</td>\n",
       "      <td>9.740681</td>\n",
       "      <td>249290.0</td>\n",
       "      <td>19049.0</td>\n",
       "      <td>30.3</td>\n",
       "      <td>NaN</td>\n",
       "      <td>NaN</td>\n",
       "      <td>0.0</td>\n",
       "      <td>iOS</td>\n",
       "      <td>NaN</td>\n",
       "      <td>NaN</td>\n",
       "      <td>5G</td>\n",
       "    </tr>\n",
       "    <tr>\n",
       "      <th>2</th>\n",
       "      <td>47.416661</td>\n",
       "      <td>9.740784</td>\n",
       "      <td>244549.0</td>\n",
       "      <td>20649.0</td>\n",
       "      <td>30.2</td>\n",
       "      <td>NaN</td>\n",
       "      <td>NaN</td>\n",
       "      <td>0.0</td>\n",
       "      <td>iOS</td>\n",
       "      <td>NaN</td>\n",
       "      <td>NaN</td>\n",
       "      <td>5G</td>\n",
       "    </tr>\n",
       "    <tr>\n",
       "      <th>3</th>\n",
       "      <td>47.416701</td>\n",
       "      <td>9.740706</td>\n",
       "      <td>245385.0</td>\n",
       "      <td>30315.0</td>\n",
       "      <td>30.0</td>\n",
       "      <td>NaN</td>\n",
       "      <td>NaN</td>\n",
       "      <td>0.0</td>\n",
       "      <td>iOS</td>\n",
       "      <td>NaN</td>\n",
       "      <td>NaN</td>\n",
       "      <td>5G</td>\n",
       "    </tr>\n",
       "    <tr>\n",
       "      <th>4</th>\n",
       "      <td>47.416688</td>\n",
       "      <td>9.740663</td>\n",
       "      <td>242417.0</td>\n",
       "      <td>26894.0</td>\n",
       "      <td>30.1</td>\n",
       "      <td>NaN</td>\n",
       "      <td>NaN</td>\n",
       "      <td>0.0</td>\n",
       "      <td>iOS</td>\n",
       "      <td>NaN</td>\n",
       "      <td>NaN</td>\n",
       "      <td>5G</td>\n",
       "    </tr>\n",
       "    <tr>\n",
       "      <th>...</th>\n",
       "      <td>...</td>\n",
       "      <td>...</td>\n",
       "      <td>...</td>\n",
       "      <td>...</td>\n",
       "      <td>...</td>\n",
       "      <td>...</td>\n",
       "      <td>...</td>\n",
       "      <td>...</td>\n",
       "      <td>...</td>\n",
       "      <td>...</td>\n",
       "      <td>...</td>\n",
       "      <td>...</td>\n",
       "    </tr>\n",
       "    <tr>\n",
       "      <th>11167</th>\n",
       "      <td>47.786750</td>\n",
       "      <td>12.956764</td>\n",
       "      <td>89899.0</td>\n",
       "      <td>8185.0</td>\n",
       "      <td>39.7</td>\n",
       "      <td>NaN</td>\n",
       "      <td>NaN</td>\n",
       "      <td>14.0</td>\n",
       "      <td>iOS</td>\n",
       "      <td>NaN</td>\n",
       "      <td>(12, 18]</td>\n",
       "      <td>4G</td>\n",
       "    </tr>\n",
       "    <tr>\n",
       "      <th>11168</th>\n",
       "      <td>48.246179</td>\n",
       "      <td>13.814193</td>\n",
       "      <td>18041.0</td>\n",
       "      <td>19223.0</td>\n",
       "      <td>47.2</td>\n",
       "      <td>NaN</td>\n",
       "      <td>NaN</td>\n",
       "      <td>14.0</td>\n",
       "      <td>iOS</td>\n",
       "      <td>NaN</td>\n",
       "      <td>(12, 18]</td>\n",
       "      <td>4G</td>\n",
       "    </tr>\n",
       "    <tr>\n",
       "      <th>11169</th>\n",
       "      <td>NaN</td>\n",
       "      <td>NaN</td>\n",
       "      <td>96338.0</td>\n",
       "      <td>16785.0</td>\n",
       "      <td>21.4</td>\n",
       "      <td>NaN</td>\n",
       "      <td>NaN</td>\n",
       "      <td>14.0</td>\n",
       "      <td>iOS</td>\n",
       "      <td>NaN</td>\n",
       "      <td>(12, 18]</td>\n",
       "      <td>4G</td>\n",
       "    </tr>\n",
       "    <tr>\n",
       "      <th>11170</th>\n",
       "      <td>48.687179</td>\n",
       "      <td>13.870744</td>\n",
       "      <td>104993.0</td>\n",
       "      <td>30005.0</td>\n",
       "      <td>23.0</td>\n",
       "      <td>NaN</td>\n",
       "      <td>NaN</td>\n",
       "      <td>14.0</td>\n",
       "      <td>iOS</td>\n",
       "      <td>NaN</td>\n",
       "      <td>(12, 18]</td>\n",
       "      <td>4G</td>\n",
       "    </tr>\n",
       "    <tr>\n",
       "      <th>11171</th>\n",
       "      <td>NaN</td>\n",
       "      <td>NaN</td>\n",
       "      <td>11502.0</td>\n",
       "      <td>2615.0</td>\n",
       "      <td>29.8</td>\n",
       "      <td>NaN</td>\n",
       "      <td>NaN</td>\n",
       "      <td>14.0</td>\n",
       "      <td>iOS</td>\n",
       "      <td>NaN</td>\n",
       "      <td>(12, 18]</td>\n",
       "      <td>4G</td>\n",
       "    </tr>\n",
       "  </tbody>\n",
       "</table>\n",
       "<p>11172 rows × 12 columns</p>\n",
       "</div>"
      ],
      "text/plain": [
       "             lat       long  download_kbit  upload_kbit  ping_ms  lte_rsrp  \\\n",
       "0      51.011007  13.816167       149734.0      10482.0     39.1       NaN   \n",
       "1      47.416610   9.740681       249290.0      19049.0     30.3       NaN   \n",
       "2      47.416661   9.740784       244549.0      20649.0     30.2       NaN   \n",
       "3      47.416701   9.740706       245385.0      30315.0     30.0       NaN   \n",
       "4      47.416688   9.740663       242417.0      26894.0     30.1       NaN   \n",
       "...          ...        ...            ...          ...      ...       ...   \n",
       "11167  47.786750  12.956764        89899.0       8185.0     39.7       NaN   \n",
       "11168  48.246179  13.814193        18041.0      19223.0     47.2       NaN   \n",
       "11169        NaN        NaN        96338.0      16785.0     21.4       NaN   \n",
       "11170  48.687179  13.870744       104993.0      30005.0     23.0       NaN   \n",
       "11171        NaN        NaN        11502.0       2615.0     29.8       NaN   \n",
       "\n",
       "       signal_strength  hour platform  network_name  hour_cat cat_technology  \n",
       "0                  NaN   0.0      iOS           NaN       NaN             4G  \n",
       "1                  NaN   0.0      iOS           NaN       NaN             5G  \n",
       "2                  NaN   0.0      iOS           NaN       NaN             5G  \n",
       "3                  NaN   0.0      iOS           NaN       NaN             5G  \n",
       "4                  NaN   0.0      iOS           NaN       NaN             5G  \n",
       "...                ...   ...      ...           ...       ...            ...  \n",
       "11167              NaN  14.0      iOS           NaN  (12, 18]             4G  \n",
       "11168              NaN  14.0      iOS           NaN  (12, 18]             4G  \n",
       "11169              NaN  14.0      iOS           NaN  (12, 18]             4G  \n",
       "11170              NaN  14.0      iOS           NaN  (12, 18]             4G  \n",
       "11171              NaN  14.0      iOS           NaN  (12, 18]             4G  \n",
       "\n",
       "[11172 rows x 12 columns]"
      ]
     },
     "execution_count": 59,
     "metadata": {},
     "output_type": "execute_result"
    }
   ],
   "source": [
    "df"
   ]
  },
  {
   "cell_type": "code",
   "execution_count": 55,
   "metadata": {},
   "outputs": [
    {
     "data": {
      "text/plain": [
       "False    491604\n",
       "True      11172\n",
       "dtype: int64"
      ]
     },
     "execution_count": 55,
     "metadata": {},
     "output_type": "execute_result"
    }
   ],
   "source": [
    "from src.prepare_dataset import get_filters\n",
    "# Parse configs\n",
    "cfg = OmegaConf.load('../config.yaml')\n",
    "\n",
    "\n",
    "get_filters(df, cfg).value_counts()"
   ]
  }
 ],
 "metadata": {
  "interpreter": {
   "hash": "1f56c614504eb5a8106de6d9101dc77f1f5f8cc40b98e25a07034d374e31ff93"
  },
  "kernelspec": {
   "display_name": "Python 3.9.0 64-bit ('project-template': conda)",
   "name": "python3"
  },
  "language_info": {
   "codemirror_mode": {
    "name": "ipython",
    "version": 3
   },
   "file_extension": ".py",
   "mimetype": "text/x-python",
   "name": "python",
   "nbconvert_exporter": "python",
   "pygments_lexer": "ipython3",
   "version": "3.9.0"
  },
  "orig_nbformat": 2
 },
 "nbformat": 4,
 "nbformat_minor": 2
}
