{
 "cells": [
  {
   "cell_type": "code",
   "execution_count": 1,
   "metadata": {},
   "outputs": [],
   "source": [
    "%load_ext autoreload\n",
    "%autoreload 2"
   ]
  },
  {
   "cell_type": "code",
   "execution_count": 2,
   "metadata": {},
   "outputs": [],
   "source": [
    "import lightgbm as lgb\n",
    "import pandas as pd\n",
    "import numpy as np\n",
    "import pathlib\n",
    "\n",
    "from omegaconf import OmegaConf\n",
    "from sklearn.model_selection import train_test_split, GridSearchCV\n",
    "from sklearn.compose import ColumnTransformer\n",
    "from sklearn.linear_model import LogisticRegression\n",
    "from sklearn.pipeline import Pipeline, make_pipeline\n",
    "from sklearn.preprocessing import StandardScaler, OneHotEncoder, LabelBinarizer\n",
    "from sklearn.impute import SimpleImputer\n",
    "from lightgbm import LGBMClassifier\n",
    "\n",
    "from src.utils.transform import (HourExtractor, WeekendExtractor, \n",
    "    FringeCategoryBucketer, OutlierRemover)\n",
    "\n",
    "from src.utils.evaluation import ModelEvaluator"
   ]
  },
  {
   "cell_type": "code",
   "execution_count": 3,
   "metadata": {},
   "outputs": [],
   "source": [
    "cfg = OmegaConf.load('../config.yaml')"
   ]
  },
  {
   "cell_type": "code",
   "execution_count": 4,
   "metadata": {},
   "outputs": [],
   "source": [
    "processed_data_dir = '..' / pathlib.Path(cfg.paths.data.processed)\n",
    "processed_file = processed_data_dir / cfg.files.processed_dataset\n",
    "\n",
    "df = pd.read_csv(processed_file)"
   ]
  },
  {
   "cell_type": "markdown",
   "metadata": {},
   "source": [
    "## Train Test Split"
   ]
  },
  {
   "cell_type": "code",
   "execution_count": 5,
   "metadata": {},
   "outputs": [],
   "source": [
    "X = df.copy()\n",
    "y = X.pop(cfg.target)\n",
    "\n",
    "X_train, X_test, y_train, y_test = train_test_split(X, y, test_size=1/3, random_state=42, stratify=y)\n",
    "#X_val, X_test, y_val, y_test = train_test_split(X_test, y_test, test_size=1/3, random_state=42)"
   ]
  },
  {
   "cell_type": "markdown",
   "metadata": {},
   "source": [
    "## Set up Evaluation Object"
   ]
  },
  {
   "cell_type": "code",
   "execution_count": 6,
   "metadata": {},
   "outputs": [],
   "source": [
    "evaluator = ModelEvaluator()"
   ]
  },
  {
   "cell_type": "markdown",
   "metadata": {},
   "source": [
    "## Basic Logreg"
   ]
  },
  {
   "cell_type": "code",
   "execution_count": 7,
   "metadata": {},
   "outputs": [],
   "source": [
    "# Simple preprocessing\n",
    "numeric_transformer = make_pipeline(\n",
    "    OutlierRemover(),\n",
    "    SimpleImputer(strategy='median'),\n",
    "    StandardScaler()\n",
    ")\n",
    "\n",
    "preprocessor = ColumnTransformer(\n",
    "    transformers=[\n",
    "        ('numerics', numeric_transformer, ['download_mbit', 'upload_mbit', 'ping_ms'])\n",
    "    ]\n",
    ")\n",
    "\n",
    "pipe = Pipeline([\n",
    "    ('prep', preprocessor),\n",
    "    ('logreg', LogisticRegression())\n",
    "])"
   ]
  },
  {
   "cell_type": "code",
   "execution_count": 8,
   "metadata": {},
   "outputs": [
    {
     "data": {
      "text/plain": [
       "Pipeline(steps=[('prep',\n",
       "                 ColumnTransformer(transformers=[('numerics',\n",
       "                                                  Pipeline(steps=[('outlierremover',\n",
       "                                                                   OutlierRemover()),\n",
       "                                                                  ('simpleimputer',\n",
       "                                                                   SimpleImputer(strategy='median')),\n",
       "                                                                  ('standardscaler',\n",
       "                                                                   StandardScaler())]),\n",
       "                                                  ['download_mbit',\n",
       "                                                   'upload_mbit',\n",
       "                                                   'ping_ms'])])),\n",
       "                ('logreg', LogisticRegression())])"
      ]
     },
     "execution_count": 8,
     "metadata": {},
     "output_type": "execute_result"
    }
   ],
   "source": [
    "pipe"
   ]
  },
  {
   "cell_type": "code",
   "execution_count": 9,
   "metadata": {},
   "outputs": [],
   "source": [
    "# Hyperparameters for training\n",
    "param_grid = {\n",
    "    'prep__numerics__outlierremover__upper_threshold_factor': range(2, 5),\n",
    "    'logreg__C': [10**(i) for i in np.arange(-2, 3, 1, dtype=float)],\n",
    "    'logreg__penalty': ['l1', 'l2'],\n",
    "    'logreg__class_weight': ['balanced', None],\n",
    "    'logreg__solver': ['liblinear'],\n",
    "    'logreg__max_iter': [200]\n",
    "}"
   ]
  },
  {
   "cell_type": "code",
   "execution_count": 10,
   "metadata": {},
   "outputs": [
    {
     "name": "stdout",
     "output_type": "stream",
     "text": [
      "Fitting 5 folds for each of 60 candidates, totalling 300 fits\n"
     ]
    },
    {
     "data": {
      "text/plain": [
       "GridSearchCV(estimator=Pipeline(steps=[('prep',\n",
       "                                        ColumnTransformer(transformers=[('numerics',\n",
       "                                                                         Pipeline(steps=[('outlierremover',\n",
       "                                                                                          OutlierRemover()),\n",
       "                                                                                         ('simpleimputer',\n",
       "                                                                                          SimpleImputer(strategy='median')),\n",
       "                                                                                         ('standardscaler',\n",
       "                                                                                          StandardScaler())]),\n",
       "                                                                         ['download_mbit',\n",
       "                                                                          'upload_mbit',\n",
       "                                                                          'ping_ms'])])),\n",
       "                                       ('logreg', LogisticRegression())]),\n",
       "             n_jobs=-1,\n",
       "             param_grid={'logreg__C': [0.01, 0.1, 1.0, 10.0, 100.0],\n",
       "                         'logreg__class_weight': ['balanced', None],\n",
       "                         'logreg__max_iter': [200],\n",
       "                         'logreg__penalty': ['l1', 'l2'],\n",
       "                         'logreg__solver': ['liblinear'],\n",
       "                         'prep__numerics__outlierremover__upper_threshold_factor': range(2, 5)},\n",
       "             scoring='f1_macro', verbose=True)"
      ]
     },
     "execution_count": 10,
     "metadata": {},
     "output_type": "execute_result"
    }
   ],
   "source": [
    "grid = GridSearchCV(\n",
    "    pipe,\n",
    "    param_grid=param_grid,\n",
    "    scoring='f1_macro',\n",
    "    n_jobs=-1,\n",
    "    verbose=True\n",
    ")\n",
    "\n",
    "grid.fit(X_train, y_train)"
   ]
  },
  {
   "cell_type": "code",
   "execution_count": 11,
   "metadata": {},
   "outputs": [
    {
     "data": {
      "text/plain": [
       "{'logreg__C': 10.0,\n",
       " 'logreg__class_weight': 'balanced',\n",
       " 'logreg__max_iter': 200,\n",
       " 'logreg__penalty': 'l1',\n",
       " 'logreg__solver': 'liblinear',\n",
       " 'prep__numerics__outlierremover__upper_threshold_factor': 2}"
      ]
     },
     "execution_count": 11,
     "metadata": {},
     "output_type": "execute_result"
    }
   ],
   "source": [
    "grid.best_params_"
   ]
  },
  {
   "cell_type": "code",
   "execution_count": 12,
   "metadata": {},
   "outputs": [],
   "source": [
    "y_test_pred = grid.best_estimator_.predict(X_test)"
   ]
  },
  {
   "cell_type": "code",
   "execution_count": 13,
   "metadata": {},
   "outputs": [
    {
     "data": {
      "image/png": "[encoded data removed]",
      "text/plain": [
       "<Figure size 432x288 with 2 Axes>"
      ]
     },
     "metadata": {
      "needs_background": "light"
     },
     "output_type": "display_data"
    },
    {
     "name": "stdout",
     "output_type": "stream",
     "text": [
      "              precision    recall  f1-score   support\n",
      "\n",
      "          3G       0.23      0.11      0.15       555\n",
      "          4G       0.86      0.91      0.88      9607\n",
      "          5G       0.70      0.64      0.67      2566\n",
      "\n",
      "    accuracy                           0.82     12728\n",
      "   macro avg       0.60      0.55      0.57     12728\n",
      "weighted avg       0.80      0.82      0.81     12728\n",
      "\n"
     ]
    }
   ],
   "source": [
    "evaluator.get_summary(y_test, y_test_pred, name='Basic logreg')"
   ]
  },
  {
   "cell_type": "markdown",
   "metadata": {},
   "source": [
    "## Advanced logistic regression"
   ]
  },
  {
   "cell_type": "code",
   "execution_count": 14,
   "metadata": {},
   "outputs": [],
   "source": [
    "# Full transformer pipeline\n",
    "numeric_transformer = make_pipeline(\n",
    "    OutlierRemover(), \n",
    "    SimpleImputer(strategy='median'),\n",
    "    StandardScaler()\n",
    ")\n",
    "\n",
    "categorical_transformer = make_pipeline(\n",
    "    FringeCategoryBucketer(), OneHotEncoder(handle_unknown='ignore')\n",
    ")\n",
    "\n",
    "weekend_transformer = make_pipeline(\n",
    "    SimpleImputer(strategy='most_frequent'), WeekendExtractor()\n",
    ") \n",
    "\n",
    "hour_transformer = make_pipeline(\n",
    "    SimpleImputer(strategy='most_frequent'), HourExtractor()\n",
    ")\n",
    "\n",
    "preprocessor = ColumnTransformer(\n",
    "    transformers=[\n",
    "        ('numerics', numeric_transformer, list(cfg.inputs.numerics)),\n",
    "        ('categories', categorical_transformer, list(cfg.inputs.categories)),\n",
    "        ('weekend', weekend_transformer, list(cfg.inputs.datetimes)),\n",
    "        ('hour', hour_transformer, list(cfg.inputs.datetimes)),\n",
    "    ]\n",
    ")\n",
    "\n",
    "pipe = Pipeline([\n",
    "    ('prep', preprocessor),\n",
    "    ('logreg', LogisticRegression())\n",
    "])"
   ]
  },
  {
   "cell_type": "code",
   "execution_count": 15,
   "metadata": {},
   "outputs": [
    {
     "name": "stdout",
     "output_type": "stream",
     "text": [
      "Fitting 5 folds for each of 60 candidates, totalling 300 fits\n"
     ]
    },
    {
     "data": {
      "text/plain": [
       "GridSearchCV(estimator=Pipeline(steps=[('prep',\n",
       "                                        ColumnTransformer(transformers=[('numerics',\n",
       "                                                                         Pipeline(steps=[('outlierremover',\n",
       "                                                                                          OutlierRemover()),\n",
       "                                                                                         ('simpleimputer',\n",
       "                                                                                          SimpleImputer(strategy='median')),\n",
       "                                                                                         ('standardscaler',\n",
       "                                                                                          StandardScaler())]),\n",
       "                                                                         ['lat',\n",
       "                                                                          'long',\n",
       "                                                                          'download_mbit',\n",
       "                                                                          'upload_mbit',\n",
       "                                                                          'ping_ms',\n",
       "                                                                          'lte_rsrp',\n",
       "                                                                          'signal_strength']),\n",
       "                                                                        ('categories',\n",
       "                                                                         Pipeline(steps=[('f...\n",
       "                                                                                          HourExtractor())]),\n",
       "                                                                         ['time_utc'])])),\n",
       "                                       ('logreg', LogisticRegression())]),\n",
       "             n_jobs=-1,\n",
       "             param_grid={'logreg__C': [0.01, 0.1, 1.0, 10.0, 100.0],\n",
       "                         'logreg__class_weight': ['balanced', None],\n",
       "                         'logreg__max_iter': [200],\n",
       "                         'logreg__penalty': ['l1', 'l2'],\n",
       "                         'logreg__solver': ['liblinear'],\n",
       "                         'prep__numerics__outlierremover__upper_threshold_factor': range(2, 5)},\n",
       "             scoring='f1_macro', verbose=True)"
      ]
     },
     "execution_count": 15,
     "metadata": {},
     "output_type": "execute_result"
    }
   ],
   "source": [
    "grid = GridSearchCV(\n",
    "    pipe,\n",
    "    param_grid=param_grid,\n",
    "    scoring='f1_macro',\n",
    "    n_jobs=-1,\n",
    "    verbose=True\n",
    ")\n",
    "\n",
    "grid.fit(X_train, y_train)"
   ]
  },
  {
   "cell_type": "code",
   "execution_count": 16,
   "metadata": {},
   "outputs": [
    {
     "data": {
      "text/plain": [
       "{'logreg__C': 10.0,\n",
       " 'logreg__class_weight': 'balanced',\n",
       " 'logreg__max_iter': 200,\n",
       " 'logreg__penalty': 'l2',\n",
       " 'logreg__solver': 'liblinear',\n",
       " 'prep__numerics__outlierremover__upper_threshold_factor': 3}"
      ]
     },
     "execution_count": 16,
     "metadata": {},
     "output_type": "execute_result"
    }
   ],
   "source": [
    "grid.best_params_"
   ]
  },
  {
   "cell_type": "code",
   "execution_count": 17,
   "metadata": {},
   "outputs": [],
   "source": [
    "y_test_pred = grid.best_estimator_.predict(X_test)"
   ]
  },
  {
   "cell_type": "code",
   "execution_count": 18,
   "metadata": {},
   "outputs": [
    {
     "data": {
      "image/png": "[encoded data removed]",
      "text/plain": [
       "<Figure size 432x288 with 2 Axes>"
      ]
     },
     "metadata": {
      "needs_background": "light"
     },
     "output_type": "display_data"
    },
    {
     "name": "stdout",
     "output_type": "stream",
     "text": [
      "              precision    recall  f1-score   support\n",
      "\n",
      "          3G       0.38      0.30      0.34       555\n",
      "          4G       0.88      0.90      0.89      9607\n",
      "          5G       0.70      0.68      0.69      2566\n",
      "\n",
      "    accuracy                           0.83     12728\n",
      "   macro avg       0.66      0.63      0.64     12728\n",
      "weighted avg       0.82      0.83      0.82     12728\n",
      "\n"
     ]
    }
   ],
   "source": [
    "evaluator.get_summary(y_test, y_test_pred, name='Advanced logreg')"
   ]
  },
  {
   "cell_type": "markdown",
   "metadata": {},
   "source": [
    "## LightGBM Model"
   ]
  },
  {
   "cell_type": "code",
   "execution_count": 19,
   "metadata": {},
   "outputs": [],
   "source": [
    "# sklearn interface\n",
    "# https://lightgbm.readthedocs.io/en/latest/pythonapi/lightgbm.LGBMClassifier.html"
   ]
  },
  {
   "cell_type": "code",
   "execution_count": 20,
   "metadata": {},
   "outputs": [],
   "source": [
    "pipe = Pipeline([\n",
    "    ('prep', preprocessor),\n",
    "    ('lgbm', LGBMClassifier())\n",
    "])"
   ]
  },
  {
   "cell_type": "code",
   "execution_count": 21,
   "metadata": {},
   "outputs": [],
   "source": [
    "param_grid_lgbm =  {\n",
    "    'prep__numerics__outlierremover__upper_threshold_factor': range(2, 5),\n",
    "    'lgbm__boosting_type': ['gbdt'],\n",
    "    'lgbm__num_leaves': [3, 30, 300],\n",
    "    'lgbm__max_depth': [-1, 5, 50],\n",
    "    'lgbm__n_estimators': [10**(i) for i in np.arange(1, 4, 1, dtype=int)],\n",
    "    'lgbm__class_weight': ['balanced', None]\n",
    "}"
   ]
  },
  {
   "cell_type": "code",
   "execution_count": 22,
   "metadata": {},
   "outputs": [
    {
     "name": "stdout",
     "output_type": "stream",
     "text": [
      "Fitting 5 folds for each of 162 candidates, totalling 810 fits\n"
     ]
    },
    {
     "data": {
      "text/plain": [
       "GridSearchCV(estimator=Pipeline(steps=[('prep',\n",
       "                                        ColumnTransformer(transformers=[('numerics',\n",
       "                                                                         Pipeline(steps=[('outlierremover',\n",
       "                                                                                          OutlierRemover()),\n",
       "                                                                                         ('simpleimputer',\n",
       "                                                                                          SimpleImputer(strategy='median')),\n",
       "                                                                                         ('standardscaler',\n",
       "                                                                                          StandardScaler())]),\n",
       "                                                                         ['lat',\n",
       "                                                                          'long',\n",
       "                                                                          'download_mbit',\n",
       "                                                                          'upload_mbit',\n",
       "                                                                          'ping_ms',\n",
       "                                                                          'lte_rsrp',\n",
       "                                                                          'signal_strength']),\n",
       "                                                                        ('categories',\n",
       "                                                                         Pipeline(steps=[('f...\n",
       "                                                                                          HourExtractor())]),\n",
       "                                                                         ['time_utc'])])),\n",
       "                                       ('lgbm', LGBMClassifier())]),\n",
       "             n_jobs=-1,\n",
       "             param_grid={'lgbm__boosting_type': ['gbdt'],\n",
       "                         'lgbm__class_weight': ['balanced', None],\n",
       "                         'lgbm__max_depth': [-1, 5, 50],\n",
       "                         'lgbm__n_estimators': [10, 100, 1000],\n",
       "                         'lgbm__num_leaves': [3, 30, 300],\n",
       "                         'prep__numerics__outlierremover__upper_threshold_factor': range(2, 5)},\n",
       "             scoring='f1_macro', verbose=True)"
      ]
     },
     "execution_count": 22,
     "metadata": {},
     "output_type": "execute_result"
    }
   ],
   "source": [
    "grid = GridSearchCV(\n",
    "    pipe,\n",
    "    param_grid=param_grid_lgbm,\n",
    "    scoring='f1_macro',\n",
    "    n_jobs=-1,\n",
    "    verbose=True\n",
    ")\n",
    "\n",
    "grid.fit(X_train, y_train)"
   ]
  },
  {
   "cell_type": "code",
   "execution_count": 23,
   "metadata": {},
   "outputs": [
    {
     "data": {
      "text/plain": [
       "{'lgbm__boosting_type': 'gbdt',\n",
       " 'lgbm__class_weight': 'balanced',\n",
       " 'lgbm__max_depth': 50,\n",
       " 'lgbm__n_estimators': 1000,\n",
       " 'lgbm__num_leaves': 300,\n",
       " 'prep__numerics__outlierremover__upper_threshold_factor': 3}"
      ]
     },
     "execution_count": 23,
     "metadata": {},
     "output_type": "execute_result"
    }
   ],
   "source": [
    "grid.best_params_"
   ]
  },
  {
   "cell_type": "code",
   "execution_count": 24,
   "metadata": {},
   "outputs": [],
   "source": [
    "y_test_pred = grid.best_estimator_.predict(X_test)"
   ]
  },
  {
   "cell_type": "code",
   "execution_count": 25,
   "metadata": {},
   "outputs": [
    {
     "data": {
      "image/png": "[encoded data removed]",
      "text/plain": [
       "<Figure size 432x288 with 2 Axes>"
      ]
     },
     "metadata": {
      "needs_background": "light"
     },
     "output_type": "display_data"
    },
    {
     "name": "stdout",
     "output_type": "stream",
     "text": [
      "              precision    recall  f1-score   support\n",
      "\n",
      "          3G       0.84      0.74      0.79       555\n",
      "          4G       0.92      0.96      0.94      9607\n",
      "          5G       0.87      0.74      0.80      2566\n",
      "\n",
      "    accuracy                           0.91     12728\n",
      "   macro avg       0.88      0.81      0.84     12728\n",
      "weighted avg       0.91      0.91      0.91     12728\n",
      "\n"
     ]
    }
   ],
   "source": [
    "evaluator.get_summary(y_test, y_test_pred, name='LightGBM')"
   ]
  },
  {
   "cell_type": "markdown",
   "metadata": {},
   "source": [
    "## Plot model comparison"
   ]
  },
  {
   "cell_type": "code",
   "execution_count": 26,
   "metadata": {},
   "outputs": [
    {
     "data": {
      "image/png": "[encoded data removed]",
      "text/plain": [
       "<Figure size 432x288 with 1 Axes>"
      ]
     },
     "metadata": {
      "needs_background": "light"
     },
     "output_type": "display_data"
    }
   ],
   "source": [
    "evaluator.plot(metric='f1-score')"
   ]
  }
 ],
 "metadata": {
  "interpreter": {
   "hash": "6242a39b9af1ed8ec400408cd096191c980245920e43fbe21f27396777802836"
  },
  "kernelspec": {
   "display_name": "Python 3.8.12 ('speedtest-classification')",
   "language": "python",
   "name": "python3"
  },
  "language_info": {
   "codemirror_mode": {
    "name": "ipython",
    "version": 3
   },
   "file_extension": ".py",
   "mimetype": "text/x-python",
   "name": "python",
   "nbconvert_exporter": "python",
   "pygments_lexer": "ipython3",
   "version": "3.8.12"
  },
  "orig_nbformat": 4
 },
 "nbformat": 4,
 "nbformat_minor": 2
}
